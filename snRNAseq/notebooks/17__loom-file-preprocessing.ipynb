{
 "cells": [
  {
   "cell_type": "markdown",
   "metadata": {},
   "source": [
    "# **Please use cellrank list of required package versions**"
   ]
  },
  {
   "cell_type": "code",
   "execution_count": 1,
   "metadata": {
    "ExecuteTime": {
     "end_time": "2022-08-16T03:03:59.828634Z",
     "start_time": "2022-08-16T03:03:57.255144Z"
    }
   },
   "outputs": [
    {
     "name": "stdout",
     "output_type": "stream",
     "text": [
      "scanpy==1.9.1 anndata==0.7.6 umap==0.5.1 numpy==1.20.3 scipy==1.7.1 pandas==1.3.3 scikit-learn==1.0 statsmodels==0.13.0rc0 pynndescent==0.5.4\n"
     ]
    }
   ],
   "source": [
    "import scanpy as sc\n",
    "import numpy as np\n",
    "import pandas as pd\n",
    "import matplotlib.pyplot as plt\n",
    "%matplotlib inline\n",
    "import matplotlib\n",
    "import math\n",
    "import seaborn as sns\n",
    "import os\n",
    "# %config IPCompleter.greedy=True\n",
    "%load_ext autoreload\n",
    "%autoreload 2\n",
    "\n",
    "sc.settings.verbosity = 0\n",
    "sc.logging.print_header()\n",
    "sns.set_context(\"paper\")"
   ]
  },
  {
   "cell_type": "code",
   "execution_count": 2,
   "metadata": {
    "ExecuteTime": {
     "end_time": "2022-08-16T03:03:59.863485Z",
     "start_time": "2022-08-16T03:03:59.832164Z"
    }
   },
   "outputs": [],
   "source": [
    "# import local module containing misc code, helps keep notebooks clean from commonly used functions\n",
    "import sys\n",
    "sys.path.insert(0, '../')\n",
    "import new_misc_code as nmc "
   ]
  },
  {
   "cell_type": "code",
   "execution_count": 3,
   "metadata": {
    "ExecuteTime": {
     "end_time": "2022-08-16T03:04:00.985307Z",
     "start_time": "2022-08-16T03:03:59.865049Z"
    }
   },
   "outputs": [
    {
     "name": "stdout",
     "output_type": "stream",
     "text": [
      "Running scvelo 0.2.4 (python 3.7.6) on 2022-08-16 11:03.\n"
     ]
    },
    {
     "name": "stderr",
     "output_type": "stream",
     "text": [
      "ERROR: XMLRPC request failed [code: -32500]\n",
      "RuntimeError: PyPI's XMLRPC API is currently disabled due to unmanageable load and will be deprecated in the near future. See https://status.python.org/ for more information.\n"
     ]
    }
   ],
   "source": [
    "import scvelo as scv\n",
    "scv.logging.print_version()"
   ]
  },
  {
   "cell_type": "markdown",
   "metadata": {},
   "source": [
    "## Using scanpy concatenate loom files"
   ]
  },
  {
   "cell_type": "code",
   "execution_count": 4,
   "metadata": {
    "ExecuteTime": {
     "end_time": "2022-08-16T03:04:01.022290Z",
     "start_time": "2022-08-16T03:04:00.988131Z"
    }
   },
   "outputs": [],
   "source": [
    "# concatenate list of loom files into one anndata\n",
    "# will all looms within supplied directory\n",
    "def loom_concat_into_anndata( path_to_looms):\n",
    "    # list of loom files\n",
    "    loom_file_list = np.array( os.listdir( path_to_looms))\n",
    "    # read in h5 files and concat to single anndata object\n",
    "    for itr, fl_itr in enumerate( loom_file_list):\n",
    "        # get batch id from file naming, assumes same convention as pre-mRNA data\n",
    "        id_itr = ('_').join( fl_itr.split('_')[:3])\n",
    "#         print( fl_itr)\n",
    "        if( itr==0):\n",
    "            ann_cat = scv.read( path_to_looms + fl_itr, cache=True)\n",
    "            ann_cat.var_names_make_unique()\n",
    "            num_nucs = [ann_cat.shape[0]]\n",
    "            batch_ids = np.array( [id_itr]*ann_cat.shape[0])\n",
    "        else:\n",
    "            ann_itr = scv.read( path_to_looms + fl_itr, cache=True)\n",
    "            ann_itr.var_names_make_unique()\n",
    "            num_nucs.append( ann_itr.shape[0])\n",
    "            batch_ids = np.append( batch_ids, [id_itr]*ann_itr.shape[0])\n",
    "            ann_cat = sc.AnnData.concatenate( ann_cat, ann_itr, join='inner', batch_categories=None)\n",
    "    ann_cat.obs['batch'] = batch_ids\n",
    "    # reformat barcodes to include seq and sample id to deal with barcode clashes\n",
    "    BCs = np.array( [ii.split('-')[0] + '-' + jj for ii, jj in zip( ann_cat.obs_names.values, ann_cat.obs['batch'])])\n",
    "    BCs = np.array( [ii.split(\":\")[1].replace(\"x\",\"\") for ii in BCs], dtype=object)\n",
    "    ann_cat.obs_names = BCs\n",
    "    return( ann_cat)"
   ]
  },
  {
   "cell_type": "code",
   "execution_count": 5,
   "metadata": {
    "ExecuteTime": {
     "end_time": "2022-08-16T03:04:01.044911Z",
     "start_time": "2022-08-16T03:04:01.023878Z"
    }
   },
   "outputs": [],
   "source": [
    "path_to_looms = \"/dd_userdata/usrdat03/userdata/cherring/data/cellranger_outputs/brain_maturation_RNA/velocity_mappings/loom_files/\""
   ]
  },
  {
   "cell_type": "code",
   "execution_count": 6,
   "metadata": {
    "ExecuteTime": {
     "end_time": "2022-08-16T03:06:52.292617Z",
     "start_time": "2022-08-16T03:04:01.046461Z"
    },
    "scrolled": true
   },
   "outputs": [
    {
     "name": "stderr",
     "output_type": "stream",
     "text": [
      "Variable names are not unique. To make them unique, call `.var_names_make_unique`.\n",
      "Variable names are not unique. To make them unique, call `.var_names_make_unique`.\n",
      "Variable names are not unique. To make them unique, call `.var_names_make_unique`.\n",
      "Variable names are not unique. To make them unique, call `.var_names_make_unique`.\n",
      "Variable names are not unique. To make them unique, call `.var_names_make_unique`.\n",
      "Variable names are not unique. To make them unique, call `.var_names_make_unique`.\n",
      "Variable names are not unique. To make them unique, call `.var_names_make_unique`.\n",
      "Variable names are not unique. To make them unique, call `.var_names_make_unique`.\n",
      "Variable names are not unique. To make them unique, call `.var_names_make_unique`.\n",
      "Variable names are not unique. To make them unique, call `.var_names_make_unique`.\n",
      "Variable names are not unique. To make them unique, call `.var_names_make_unique`.\n",
      "Variable names are not unique. To make them unique, call `.var_names_make_unique`.\n",
      "Variable names are not unique. To make them unique, call `.var_names_make_unique`.\n",
      "Variable names are not unique. To make them unique, call `.var_names_make_unique`.\n",
      "Variable names are not unique. To make them unique, call `.var_names_make_unique`.\n",
      "Variable names are not unique. To make them unique, call `.var_names_make_unique`.\n",
      "Variable names are not unique. To make them unique, call `.var_names_make_unique`.\n",
      "Variable names are not unique. To make them unique, call `.var_names_make_unique`.\n",
      "Variable names are not unique. To make them unique, call `.var_names_make_unique`.\n",
      "Variable names are not unique. To make them unique, call `.var_names_make_unique`.\n",
      "Variable names are not unique. To make them unique, call `.var_names_make_unique`.\n",
      "Variable names are not unique. To make them unique, call `.var_names_make_unique`.\n",
      "Variable names are not unique. To make them unique, call `.var_names_make_unique`.\n",
      "Variable names are not unique. To make them unique, call `.var_names_make_unique`.\n",
      "Variable names are not unique. To make them unique, call `.var_names_make_unique`.\n",
      "Variable names are not unique. To make them unique, call `.var_names_make_unique`.\n",
      "... storing 'Chromosome' as categorical\n",
      "... storing 'Strand' as categorical\n",
      "Variable names are not unique. To make them unique, call `.var_names_make_unique`.\n",
      "... storing 'Chromosome' as categorical\n",
      "... storing 'Strand' as categorical\n"
     ]
    }
   ],
   "source": [
    "looms_adata = loom_concat_into_anndata( path_to_looms)"
   ]
  },
  {
   "cell_type": "code",
   "execution_count": 7,
   "metadata": {
    "ExecuteTime": {
     "end_time": "2022-08-16T03:06:52.358035Z",
     "start_time": "2022-08-16T03:06:52.294779Z"
    }
   },
   "outputs": [
    {
     "data": {
      "text/plain": [
       "AnnData object with n_obs × n_vars = 150989 × 32738\n",
       "    obs: 'Clusters', '_X', '_Y', 'batch'\n",
       "    var: 'Accession', 'Chromosome', 'End', 'Start', 'Strand'\n",
       "    layers: 'matrix', 'ambiguous', 'spliced', 'unspliced'"
      ]
     },
     "execution_count": 7,
     "metadata": {},
     "output_type": "execute_result"
    }
   ],
   "source": [
    "looms_adata"
   ]
  },
  {
   "cell_type": "code",
   "execution_count": 8,
   "metadata": {
    "ExecuteTime": {
     "end_time": "2022-08-16T03:06:52.382550Z",
     "start_time": "2022-08-16T03:06:52.359510Z"
    }
   },
   "outputs": [
    {
     "data": {
      "text/plain": [
       "Index(['AAAGTAGCAGACGCCT-RL1612_34d_v2', 'AAAGCAATCTAACTCT-RL1612_34d_v2',\n",
       "       'AAAGATGGTGCGAAAC-RL1612_34d_v2', 'AAATGCCCAGTCAGCC-RL1612_34d_v2',\n",
       "       'AAAGCAACAAGGTTCT-RL1612_34d_v2', 'AACACGTTCTGCAGTA-RL1612_34d_v2',\n",
       "       'AAAGCAAAGCACGCCT-RL1612_34d_v2', 'AAACGGGCATCCGGGT-RL1612_34d_v2',\n",
       "       'AAAGATGTCTTGCCGT-RL1612_34d_v2', 'AAAGCAAGTCTCATCC-RL1612_34d_v2',\n",
       "       ...\n",
       "       'TTTACTGGTTCTCACC-RL2105_627d_v3', 'TTTCATGGTTACGTAC-RL2105_627d_v3',\n",
       "       'TTTCACATCAGTGCGC-RL2105_627d_v3', 'TTTGGAGCAGACCTGC-RL2105_627d_v3',\n",
       "       'TTTGGTTTCTAGTACG-RL2105_627d_v3', 'TTTGATCTCCGTGACG-RL2105_627d_v3',\n",
       "       'TTTCGATAGTCTGGTT-RL2105_627d_v3', 'TTTAGTCAGGTACCTT-RL2105_627d_v3',\n",
       "       'TTTACCACACAAAGTA-RL2105_627d_v3', 'TTGTTCATCTAGTGTG-RL2105_627d_v3'],\n",
       "      dtype='object', length=150989)"
      ]
     },
     "execution_count": 8,
     "metadata": {},
     "output_type": "execute_result"
    }
   ],
   "source": [
    "# obs naming format matches pre-mRNA data format\n",
    "looms_adata.obs_names"
   ]
  },
  {
   "cell_type": "code",
   "execution_count": 9,
   "metadata": {
    "ExecuteTime": {
     "end_time": "2022-08-16T03:07:08.727595Z",
     "start_time": "2022-08-16T03:06:52.384228Z"
    }
   },
   "outputs": [
    {
     "name": "stderr",
     "output_type": "stream",
     "text": [
      "... storing 'batch' as categorical\n"
     ]
    }
   ],
   "source": [
    "# save incase shit gets weird \n",
    "looms_file_nm = \"../data/2020-09-09_concated-looms.h5ad\"\n",
    "looms_adata.write( looms_file_nm)"
   ]
  },
  {
   "cell_type": "markdown",
   "metadata": {},
   "source": [
    "## Add spliced and unspliced matrices to pre-mRNA data"
   ]
  },
  {
   "cell_type": "code",
   "execution_count": 11,
   "metadata": {
    "ExecuteTime": {
     "end_time": "2022-08-16T03:07:42.530839Z",
     "start_time": "2022-08-16T03:07:35.690507Z"
    }
   },
   "outputs": [],
   "source": [
    "# load pre-mRNA data \n",
    "in_file_nm = \"../data/post-gaba-wt-dev-traj.h5ad\"\n",
    "pre_adata = sc.read( in_file_nm)"
   ]
  },
  {
   "cell_type": "markdown",
   "metadata": {},
   "source": [
    "Note: pre-mRNA data has already been downsampled and pre-processed, so it is currently in logged form "
   ]
  },
  {
   "cell_type": "code",
   "execution_count": 15,
   "metadata": {
    "ExecuteTime": {
     "end_time": "2022-08-16T03:07:49.152395Z",
     "start_time": "2022-08-16T03:07:47.783177Z"
    }
   },
   "outputs": [
    {
     "data": {
      "text/plain": [
       "((132229, 32738), (132229, 26747))"
      ]
     },
     "execution_count": 15,
     "metadata": {},
     "output_type": "execute_result"
    }
   ],
   "source": [
    "# adatas do not contain same nucs, so need to take intersect of barcodes (BCs) \n",
    "all_loom_mk  = nmc.member_test( looms_adata.obs_names.values, pre_adata.obs_names.values)\n",
    "pre_adata_mk = nmc.member_test( pre_adata.obs_names.values,  looms_adata.obs_names.values)\n",
    "loom = looms_adata[all_loom_mk]\n",
    "adata = pre_adata[pre_adata_mk]\n",
    "loom.shape, adata.shape"
   ]
  },
  {
   "cell_type": "code",
   "execution_count": null,
   "metadata": {},
   "outputs": [],
   "source": []
  },
  {
   "cell_type": "code",
   "execution_count": null,
   "metadata": {},
   "outputs": [],
   "source": []
  },
  {
   "cell_type": "code",
   "execution_count": 11,
   "metadata": {
    "ExecuteTime": {
     "end_time": "2020-09-10T03:51:04.087413Z",
     "start_time": "2020-09-10T03:51:03.825443Z"
    },
    "deletable": false,
    "editable": false,
    "run_control": {
     "frozen": true
    }
   },
   "outputs": [
    {
     "data": {
      "text/plain": [
       "((132229, 32738), (132229, 26747))"
      ]
     },
     "execution_count": 11,
     "metadata": {},
     "output_type": "execute_result"
    }
   ],
   "source": [
    "# adatas do not contain same nucs, so need to take intersect of barcodes (BCs) \n",
    "all_loom_mk  = dta.member_test( looms_adata.obs_names.values, pre_adata.obs_names.values)\n",
    "pre_adata_mk = dta.member_test( pre_adata.obs_names.values,  looms_adata.obs_names.values)\n",
    "loom = looms_adata[all_loom_mk]\n",
    "adata = pre_adata[pre_adata_mk]\n",
    "loom.shape, adata.shape"
   ]
  },
  {
   "cell_type": "code",
   "execution_count": 16,
   "metadata": {
    "ExecuteTime": {
     "end_time": "2022-08-16T03:07:55.512479Z",
     "start_time": "2022-08-16T03:07:55.438181Z"
    }
   },
   "outputs": [
    {
     "data": {
      "text/plain": [
       "131698"
      ]
     },
     "execution_count": 16,
     "metadata": {},
     "output_type": "execute_result"
    }
   ],
   "source": [
    "# check if order of BCs match, should sum to 0; they don't\n",
    "(adata.obs_names.values!=loom.obs_names.values).sum()"
   ]
  },
  {
   "cell_type": "code",
   "execution_count": 17,
   "metadata": {
    "ExecuteTime": {
     "end_time": "2022-08-16T03:10:45.829944Z",
     "start_time": "2022-08-16T03:08:41.507336Z"
    }
   },
   "outputs": [],
   "source": [
    "# need to match order of BCs to make sure (un)spliced cts get assigned to correct nucs\n",
    "# ## this takes about 2min to run ##\n",
    "loom_bc_list = loom.obs_names.values.tolist()\n",
    "pre_bc_list  = adata.obs_names.values.tolist()\n",
    "# return adata args in loom BC order \n",
    "pre_to_loom_args = np.array([pre_bc_list.index(ii) for ii in loom_bc_list])\n",
    "adata = adata[pre_to_loom_args]"
   ]
  },
  {
   "cell_type": "code",
   "execution_count": 18,
   "metadata": {
    "ExecuteTime": {
     "end_time": "2022-08-16T03:10:45.901071Z",
     "start_time": "2022-08-16T03:10:45.833053Z"
    }
   },
   "outputs": [
    {
     "data": {
      "text/plain": [
       "0"
      ]
     },
     "execution_count": 18,
     "metadata": {},
     "output_type": "execute_result"
    }
   ],
   "source": [
    "# just to know in our hearts the orders now match\n",
    "(adata.obs_names.values!=loom.obs_names.values).sum()"
   ]
  },
  {
   "cell_type": "code",
   "execution_count": 20,
   "metadata": {
    "ExecuteTime": {
     "end_time": "2022-08-16T03:13:54.223761Z",
     "start_time": "2022-08-16T03:13:53.841423Z"
    }
   },
   "outputs": [
    {
     "data": {
      "text/plain": [
       "((132229, 26747), (132229, 26747))"
      ]
     },
     "execution_count": 20,
     "metadata": {},
     "output_type": "execute_result"
    }
   ],
   "source": [
    "# repeat process with genes\n",
    "all_loom_gene_mk  = nmc.member_test( loom.var_names.values, adata.var_names.values)\n",
    "pre_adata_gene_mk = nmc.member_test( adata.var_names.values,  loom.var_names.values)\n",
    "loom  = loom[:,all_loom_gene_mk]\n",
    "adata = adata[:,pre_adata_gene_mk]\n",
    "loom.shape, adata.shape"
   ]
  },
  {
   "cell_type": "code",
   "execution_count": 21,
   "metadata": {
    "ExecuteTime": {
     "end_time": "2022-08-16T03:14:11.160116Z",
     "start_time": "2022-08-16T03:14:06.223259Z"
    }
   },
   "outputs": [],
   "source": [
    "# need to match order of BCs to make sure (un)spliced cts get assigned to correct nucs\n",
    "# ## this takes about 2min to run ##\n",
    "loom_gene_list = loom.var_names.values.tolist()\n",
    "pre_gene_list  = adata.var_names.values.tolist()\n",
    "# return adata args in loom BC order \n",
    "pre_to_loom_gene_args = np.array([pre_gene_list.index(ii) for ii in loom_gene_list])\n",
    "adata = adata[:,pre_to_loom_gene_args]"
   ]
  },
  {
   "cell_type": "code",
   "execution_count": 22,
   "metadata": {
    "ExecuteTime": {
     "end_time": "2022-08-16T03:14:11.189478Z",
     "start_time": "2022-08-16T03:14:11.162155Z"
    }
   },
   "outputs": [
    {
     "data": {
      "text/plain": [
       "0"
      ]
     },
     "execution_count": 22,
     "metadata": {},
     "output_type": "execute_result"
    }
   ],
   "source": [
    "# check gene order match\n",
    "(adata.var_names.values!=loom.var_names.values).sum()"
   ]
  },
  {
   "cell_type": "code",
   "execution_count": 23,
   "metadata": {
    "ExecuteTime": {
     "end_time": "2022-08-16T03:14:21.188095Z",
     "start_time": "2022-08-16T03:14:11.991161Z"
    }
   },
   "outputs": [
    {
     "data": {
      "image/png": "[encoded data removed]",
      "text/plain": [
       "<Figure size 2000x400 with 1 Axes>"
      ]
     },
     "metadata": {},
     "output_type": "display_data"
    }
   ],
   "source": [
    "# summary view of layers\n",
    "scv.pl.proportions( loom, layers=['ambiguous','spliced','unspliced'], fontsize=3, dpi=200)"
   ]
  },
  {
   "cell_type": "code",
   "execution_count": 19,
   "metadata": {
    "ExecuteTime": {
     "end_time": "2020-09-10T03:53:57.876168Z",
     "start_time": "2020-09-10T03:53:31.854560Z"
    }
   },
   "outputs": [],
   "source": [
    "# set loom layers to adata, do not need ambiguous counts\n",
    "adata.layers['spliced']   = loom.layers['spliced']\n",
    "adata.layers['unspliced'] = loom.layers['unspliced']\n",
    "adata.layers['matrix'] = loom.layers['matrix']"
   ]
  },
  {
   "cell_type": "markdown",
   "metadata": {},
   "source": [
    "## Save anndata"
   ]
  },
  {
   "cell_type": "code",
   "execution_count": 24,
   "metadata": {
    "ExecuteTime": {
     "end_time": "2022-08-16T03:15:08.277061Z",
     "start_time": "2022-08-16T03:14:52.111679Z"
    }
   },
   "outputs": [],
   "source": [
    "out_file_nm = \"../data/whole-tissue_with-looms.h5ad\"\n",
    "adata.write( out_file_nm)"
   ]
  }
 ],
 "metadata": {
  "kernelspec": {
   "display_name": "cellrank_env",
   "language": "python",
   "name": "cellrank_env"
  },
  "language_info": {
   "codemirror_mode": {
    "name": "ipython",
    "version": 3
   },
   "file_extension": ".py",
   "mimetype": "text/x-python",
   "name": "python",
   "nbconvert_exporter": "python",
   "pygments_lexer": "ipython3",
   "version": "3.7.6"
  }
 },
 "nbformat": 4,
 "nbformat_minor": 4
}
