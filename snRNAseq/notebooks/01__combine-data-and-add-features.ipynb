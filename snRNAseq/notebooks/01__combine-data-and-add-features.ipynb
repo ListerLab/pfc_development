{
 "cells": [
  {
   "cell_type": "markdown",
   "metadata": {},
   "source": [
    "## **To recreate study results please load package versions found in main_requirements.txt**"
   ]
  },
  {
   "cell_type": "code",
   "execution_count": 1,
   "metadata": {
    "ExecuteTime": {
     "end_time": "2022-08-17T05:57:54.473880Z",
     "start_time": "2022-08-17T05:57:49.069244Z"
    },
    "scrolled": true
   },
   "outputs": [
    {
     "name": "stdout",
     "output_type": "stream",
     "text": [
      "scanpy==1.6.0 anndata==0.7.4 umap==0.4.3 numpy==1.18.2 scipy==1.4.1 pandas==1.0.3 scikit-learn==0.22.2.post1 statsmodels==0.10.1 python-igraph==0.8.0 louvain==0.6.1 leidenalg==0.8.0\n"
     ]
    }
   ],
   "source": [
    "import scanpy as sc\n",
    "import numpy as np\n",
    "import pandas as pd\n",
    "%load_ext autoreload\n",
    "%autoreload 2\n",
    "\n",
    "sc.settings.verbosity = 1\n",
    "sc.logging.print_header()"
   ]
  },
  {
   "cell_type": "markdown",
   "metadata": {},
   "source": [
    "### Concatenate all files into one anndata object"
   ]
  },
  {
   "cell_type": "code",
   "execution_count": 2,
   "metadata": {
    "ExecuteTime": {
     "end_time": "2022-08-08T05:23:01.480407Z",
     "start_time": "2022-08-08T05:23:01.406282Z"
    }
   },
   "outputs": [
    {
     "data": {
      "text/plain": [
       "array(['RL1612_34d_v2_filtered.h5', 'RL1613_2yr_v2_filtered.h5'],\n",
       "      dtype='<U26')"
      ]
     },
     "execution_count": 2,
     "metadata": {},
     "output_type": "execute_result"
    }
   ],
   "source": [
    "# directory path where 10x filtered h5's are located\n",
    "from os import listdir\n",
    "data_in_path = \"/home/cherring/working_data_03/data/cellranger_outputs/brain_maturation_RNA/final_set_filtered_h5s/\"\n",
    "# file formats should be: RUNID_AGE_Chemistry_filetypename.h5\n",
    "file_list = np.sort( listdir( data_in_path))\n",
    "file_list[:2]"
   ]
  },
  {
   "cell_type": "code",
   "execution_count": 3,
   "metadata": {
    "ExecuteTime": {
     "end_time": "2022-08-08T05:23:47.423028Z",
     "start_time": "2022-08-08T05:23:01.482340Z"
    },
    "scrolled": true,
    "tags": []
   },
   "outputs": [
    {
     "name": "stderr",
     "output_type": "stream",
     "text": [
      "Variable names are not unique. To make them unique, call `.var_names_make_unique`.\n",
      "Variable names are not unique. To make them unique, call `.var_names_make_unique`.\n",
      "Variable names are not unique. To make them unique, call `.var_names_make_unique`.\n",
      "Variable names are not unique. To make them unique, call `.var_names_make_unique`.\n",
      "Variable names are not unique. To make them unique, call `.var_names_make_unique`.\n",
      "Variable names are not unique. To make them unique, call `.var_names_make_unique`.\n",
      "Variable names are not unique. To make them unique, call `.var_names_make_unique`.\n",
      "Variable names are not unique. To make them unique, call `.var_names_make_unique`.\n",
      "Variable names are not unique. To make them unique, call `.var_names_make_unique`.\n",
      "Variable names are not unique. To make them unique, call `.var_names_make_unique`.\n",
      "Variable names are not unique. To make them unique, call `.var_names_make_unique`.\n",
      "Variable names are not unique. To make them unique, call `.var_names_make_unique`.\n",
      "Variable names are not unique. To make them unique, call `.var_names_make_unique`.\n",
      "Variable names are not unique. To make them unique, call `.var_names_make_unique`.\n",
      "Variable names are not unique. To make them unique, call `.var_names_make_unique`.\n",
      "Variable names are not unique. To make them unique, call `.var_names_make_unique`.\n",
      "Variable names are not unique. To make them unique, call `.var_names_make_unique`.\n",
      "Variable names are not unique. To make them unique, call `.var_names_make_unique`.\n",
      "Variable names are not unique. To make them unique, call `.var_names_make_unique`.\n",
      "Variable names are not unique. To make them unique, call `.var_names_make_unique`.\n",
      "Variable names are not unique. To make them unique, call `.var_names_make_unique`.\n",
      "Variable names are not unique. To make them unique, call `.var_names_make_unique`.\n",
      "Variable names are not unique. To make them unique, call `.var_names_make_unique`.\n",
      "Variable names are not unique. To make them unique, call `.var_names_make_unique`.\n",
      "Variable names are not unique. To make them unique, call `.var_names_make_unique`.\n",
      "Variable names are not unique. To make them unique, call `.var_names_make_unique`.\n",
      "Variable names are not unique. To make them unique, call `.var_names_make_unique`.\n",
      "Variable names are not unique. To make them unique, call `.var_names_make_unique`.\n",
      "Variable names are not unique. To make them unique, call `.var_names_make_unique`.\n",
      "Variable names are not unique. To make them unique, call `.var_names_make_unique`.\n",
      "Variable names are not unique. To make them unique, call `.var_names_make_unique`.\n",
      "Variable names are not unique. To make them unique, call `.var_names_make_unique`.\n",
      "Variable names are not unique. To make them unique, call `.var_names_make_unique`.\n",
      "Variable names are not unique. To make them unique, call `.var_names_make_unique`.\n",
      "Variable names are not unique. To make them unique, call `.var_names_make_unique`.\n",
      "Variable names are not unique. To make them unique, call `.var_names_make_unique`.\n",
      "Variable names are not unique. To make them unique, call `.var_names_make_unique`.\n",
      "Variable names are not unique. To make them unique, call `.var_names_make_unique`.\n",
      "Variable names are not unique. To make them unique, call `.var_names_make_unique`.\n",
      "Variable names are not unique. To make them unique, call `.var_names_make_unique`.\n",
      "Variable names are not unique. To make them unique, call `.var_names_make_unique`.\n",
      "Variable names are not unique. To make them unique, call `.var_names_make_unique`.\n",
      "Variable names are not unique. To make them unique, call `.var_names_make_unique`.\n",
      "Variable names are not unique. To make them unique, call `.var_names_make_unique`.\n",
      "Variable names are not unique. To make them unique, call `.var_names_make_unique`.\n",
      "Variable names are not unique. To make them unique, call `.var_names_make_unique`.\n",
      "Variable names are not unique. To make them unique, call `.var_names_make_unique`.\n",
      "Variable names are not unique. To make them unique, call `.var_names_make_unique`.\n",
      "Variable names are not unique. To make them unique, call `.var_names_make_unique`.\n",
      "Variable names are not unique. To make them unique, call `.var_names_make_unique`.\n",
      "Variable names are not unique. To make them unique, call `.var_names_make_unique`.\n",
      "Variable names are not unique. To make them unique, call `.var_names_make_unique`.\n",
      "Variable names are not unique. To make them unique, call `.var_names_make_unique`.\n",
      "Variable names are not unique. To make them unique, call `.var_names_make_unique`.\n"
     ]
    }
   ],
   "source": [
    "# concatenate all data into one anndata\n",
    "adata_list = []\n",
    "for fl_itr in file_list:\n",
    "    fl_ids = fl_itr.split('_')\n",
    "    adata_itr = sc.read_10x_h5( data_in_path+fl_itr, genome=None)\n",
    "    # drop genome var feature due to poor handling with concatentate, hg19 was used for all runs\n",
    "    adata_itr.var.drop( labels='genome', axis=1, inplace=True)\n",
    "    adata_itr.var['non-unique_names'] = adata_itr.var_names\n",
    "    adata_itr.var_names_make_unique()\n",
    "    adata_itr.obs['batch'] = (\"_\").join( fl_ids[:3])\n",
    "    adata_itr.obs['RL#']  = fl_ids[0]\n",
    "    adata_itr.obs['age']  = fl_ids[1]\n",
    "    adata_itr.obs['chem'] = fl_ids[2]\n",
    "    adata_list.append( adata_itr)\n",
    "adata = sc.AnnData.concatenate( *adata_list, join='inner', batch_key=\"concat_id\")\n",
    "# reformat barcodes to include seq and sample id to deal with any barcode clashes\n",
    "barcodes = np.array( [ii.split('-')[0] + '-' + jj for ii, jj in zip( adata.obs_names, adata.obs['batch'])])\n",
    "adata.obs_names = barcodes"
   ]
  },
  {
   "cell_type": "code",
   "execution_count": 4,
   "metadata": {
    "ExecuteTime": {
     "end_time": "2022-08-08T05:23:47.479773Z",
     "start_time": "2022-08-08T05:23:47.426386Z"
    }
   },
   "outputs": [
    {
     "data": {
      "text/plain": [
       "(194703, 32738)"
      ]
     },
     "execution_count": 4,
     "metadata": {},
     "output_type": "execute_result"
    }
   ],
   "source": [
    "adata.shape"
   ]
  },
  {
   "cell_type": "markdown",
   "metadata": {},
   "source": [
    "### Format and add features of interest"
   ]
  },
  {
   "cell_type": "code",
   "execution_count": 5,
   "metadata": {
    "ExecuteTime": {
     "end_time": "2022-08-08T05:23:47.503777Z",
     "start_time": "2022-08-08T05:23:47.481422Z"
    }
   },
   "outputs": [],
   "source": [
    "# add batch and age order for plotting and etc\n",
    "adata.uns['batch_order'] = ['RL2103_ga22_v3', 'RL2107_ga24_v3', 'RL2121_ga34_v3', 'RL1777_2d_v3',   'RL1612_34d_v2',  'RL2100_86d_v3',\n",
    "                            'RL2104_118d_v3', 'RL2108_179d_v3', 'RL2122_301d_v3', 'RL2125_422d_v3', 'RL2105_627d_v3', 'RL1613_2yr_v2', \n",
    "                            'RL1786_2yr_v3',  'RL2129_3yr_v3',  'RL2109_4yr_v3',  'RL2106_6yr_v3',  'RL1614_8yr_v2',  'RL2110_10yr_v3',\n",
    "                            'RL2126_10yr_v3', 'RL2127_12yr_v3', 'RL2130_14yr_v3', 'RL2102_16yr_v3', 'RL2131_17yr_v3', 'RL2123_20yr_v3', \n",
    "                            'RL2128_20yr_v3', 'RL2132_25yr_v3', 'RL2124_40yr_v3']\n",
    "# set age order\n",
    "adata.uns['age_order'] = [bb.split('_')[1] for bb in adata.uns['batch_order']]"
   ]
  },
  {
   "cell_type": "markdown",
   "metadata": {},
   "source": [
    "Get numerical age and add developmental stage"
   ]
  },
  {
   "cell_type": "code",
   "execution_count": 6,
   "metadata": {
    "ExecuteTime": {
     "end_time": "2022-08-08T05:23:47.529784Z",
     "start_time": "2022-08-08T05:23:47.505685Z"
    }
   },
   "outputs": [],
   "source": [
    "# Numerical age for fetal samples are negative based on 40 week gestation, with -280/365 being conception and 0 being birth\n",
    "def calc_fetal( ga):\n",
    "    return( ( ( ga * 7) - ( 40 * 7)) / 365)\n",
    "\n",
    "import re\n",
    "# convert all age to a common numerical scale and add feature, i.e. years\n",
    "def numerical_age( adata):\n",
    "    # get numerical age\n",
    "    str_age = adata.uns['age_order']\n",
    "    num_age = []\n",
    "    for age_itr in str_age:\n",
    "        digit = int(re.findall('\\d+', age_itr)[0])\n",
    "        if( \"ga\" in age_itr):\n",
    "            num_age.append( calc_fetal( digit))\n",
    "        elif( \"d\" in age_itr):\n",
    "            num_age.append( digit / 365)\n",
    "        elif( \"yr\" in age_itr):\n",
    "            num_age.append( digit)\n",
    "        else:\n",
    "            print( age_itr + \" of unknown age type, numerical value set to 0.0\")\n",
    "    # add feature to anndata\n",
    "    adata.obs['numerical_age'] = [num_age[str_age.index(ii)] for ii in adata.obs['age']]\n",
    "    return"
   ]
  },
  {
   "cell_type": "code",
   "execution_count": 7,
   "metadata": {
    "ExecuteTime": {
     "end_time": "2022-08-08T05:23:47.555051Z",
     "start_time": "2022-08-08T05:23:47.531625Z"
    }
   },
   "outputs": [],
   "source": [
    "# stage of maturation, \n",
    "# ref https://www.nature.com/articles/nature10523/tables/1\n",
    "def stage_id( adata):\n",
    "    numer_age = adata.obs['numerical_age'].values\n",
    "    # array to hold stage ids\n",
    "    stage_id  = np.zeros_like( adata.obs['batch'].values.astype(str))\n",
    "    stage_id[:] = '!INVALID AGE!'\n",
    "    \n",
    "    # Fetal - up to ga38\n",
    "    stage_id[numer_age<calc_fetal(38)] = 'Fetal'\n",
    "    # Neonatal - ga38 up to 60d\n",
    "    stage_id[(numer_age>=calc_fetal(38)) & (numer_age<60/365)] = 'Neonatal'\n",
    "    # Infancy - 60d up to 1yr \n",
    "    stage_id[(numer_age>=60/365) & (numer_age<1)] = 'Infancy'\n",
    "    # Childhood - 1yr up to 6yr\n",
    "    stage_id[(numer_age>=1) & (numer_age<10)] = 'Childhood'\n",
    "    # Adolescence - 12yr up 20yr\n",
    "    stage_id[(numer_age>=10) & (numer_age<20)] = 'Adolescence'\n",
    "    # Adulthood - 20yr up to 40\n",
    "    stage_id[(numer_age>=20) & (numer_age<=40)] = 'Adult'\n",
    "    # Late Adulthood - 40yr and up \n",
    "    stage_id[numer_age>40] = 'Late Adult'\n",
    "    \n",
    "    adata.obs['stage_id'] = stage_id\n",
    "    return"
   ]
  },
  {
   "cell_type": "code",
   "execution_count": 8,
   "metadata": {
    "ExecuteTime": {
     "end_time": "2022-08-08T05:23:47.715937Z",
     "start_time": "2022-08-08T05:23:47.556886Z"
    }
   },
   "outputs": [],
   "source": [
    "numerical_age( adata)\n",
    "stage_id( adata)"
   ]
  },
  {
   "cell_type": "code",
   "execution_count": 9,
   "metadata": {
    "ExecuteTime": {
     "end_time": "2022-08-08T05:23:47.756930Z",
     "start_time": "2022-08-08T05:23:47.717817Z"
    }
   },
   "outputs": [],
   "source": [
    "# set column type to categorical\n",
    "adata.obs['stage_id'] = adata.obs['stage_id'].astype('category')\n",
    "# set order and colors of stages\n",
    "adata.uns['stage_order'] =  ['Fetal', 'Neonatal', 'Infancy', 'Childhood', 'Adolescence', 'Adult']\n",
    "# add colors and color dict to be used for plotting\n",
    "stage_ordered_colors = [\"#512568\", \"#443682\", \"#3D6B93\", \"#20988C\", \"#98CA43\", \"#F9E51B\"]\n",
    "adata.uns['stage_colors_dict'] = dict( zip( adata.uns['stage_order'], stage_ordered_colors))\n",
    "adata.uns['stage_id_colors'] = [adata.uns['stage_colors_dict'][ii] for ii in adata.obs['stage_id'].cat.categories]"
   ]
  },
  {
   "cell_type": "markdown",
   "metadata": {},
   "source": [
    "Add sample related features"
   ]
  },
  {
   "cell_type": "code",
   "execution_count": 10,
   "metadata": {
    "ExecuteTime": {
     "end_time": "2022-08-08T05:23:47.806234Z",
     "start_time": "2022-08-08T05:23:47.760248Z"
    }
   },
   "outputs": [
    {
     "data": {
      "text/html": [
       "<div>\n",
       "<style scoped>\n",
       "    .dataframe tbody tr th:only-of-type {\n",
       "        vertical-align: middle;\n",
       "    }\n",
       "\n",
       "    .dataframe tbody tr th {\n",
       "        vertical-align: top;\n",
       "    }\n",
       "\n",
       "    .dataframe thead th {\n",
       "        text-align: right;\n",
       "    }\n",
       "</style>\n",
       "<table border=\"1\" class=\"dataframe\">\n",
       "  <thead>\n",
       "    <tr style=\"text-align: right;\">\n",
       "      <th></th>\n",
       "      <th>RL#</th>\n",
       "      <th>Sample ID</th>\n",
       "      <th>Age</th>\n",
       "      <th>Sex</th>\n",
       "      <th>Race</th>\n",
       "      <th>PMI</th>\n",
       "      <th>Brain Regions*</th>\n",
       "      <th>Cause of Death</th>\n",
       "      <th>ICD-10 Code</th>\n",
       "      <th>ICD-10 category</th>\n",
       "      <th>Oxygen/No Oxygen</th>\n",
       "      <th>Date-of-Collection</th>\n",
       "      <th>Collection_year</th>\n",
       "      <th>Library Prep Date</th>\n",
       "      <th>Library Prep Lot</th>\n",
       "    </tr>\n",
       "  </thead>\n",
       "  <tbody>\n",
       "    <tr>\n",
       "      <th>1</th>\n",
       "      <td>RL2103</td>\n",
       "      <td>1085</td>\n",
       "      <td>ga22</td>\n",
       "      <td>M</td>\n",
       "      <td>AA</td>\n",
       "      <td>5</td>\n",
       "      <td>BA9</td>\n",
       "      <td>Respiratory Insufficiency</td>\n",
       "      <td>108</td>\n",
       "      <td>Perinatal</td>\n",
       "      <td>Oxygen</td>\n",
       "      <td>NaN</td>\n",
       "      <td>NaN</td>\n",
       "      <td>28.03.2020</td>\n",
       "      <td>1</td>\n",
       "    </tr>\n",
       "    <tr>\n",
       "      <th>2</th>\n",
       "      <td>RL2107</td>\n",
       "      <td>4320</td>\n",
       "      <td>ga24</td>\n",
       "      <td>M</td>\n",
       "      <td>AA</td>\n",
       "      <td>9</td>\n",
       "      <td>BA9</td>\n",
       "      <td>Prematurity, Hyaline membrane disease</td>\n",
       "      <td>108</td>\n",
       "      <td>Perinatal</td>\n",
       "      <td>No Oxygen</td>\n",
       "      <td>NaN</td>\n",
       "      <td>NaN</td>\n",
       "      <td>28.03.2020</td>\n",
       "      <td>1</td>\n",
       "    </tr>\n",
       "    <tr>\n",
       "      <th>3</th>\n",
       "      <td>RL2121</td>\n",
       "      <td>5900</td>\n",
       "      <td>ga34</td>\n",
       "      <td>F</td>\n",
       "      <td>White</td>\n",
       "      <td>23</td>\n",
       "      <td>BA9</td>\n",
       "      <td>Hypoplatic Left Heart Syndrome</td>\n",
       "      <td>108</td>\n",
       "      <td>Perinatal</td>\n",
       "      <td>No Oxygen</td>\n",
       "      <td>11.01.2015</td>\n",
       "      <td>2015.0</td>\n",
       "      <td>16.04.2020</td>\n",
       "      <td>2</td>\n",
       "    </tr>\n",
       "    <tr>\n",
       "      <th>5</th>\n",
       "      <td>RL1777</td>\n",
       "      <td>4375</td>\n",
       "      <td>2d</td>\n",
       "      <td>F</td>\n",
       "      <td>White</td>\n",
       "      <td>26</td>\n",
       "      <td>BA8</td>\n",
       "      <td>Positional asphyxia</td>\n",
       "      <td>R090</td>\n",
       "      <td>Asphyxia</td>\n",
       "      <td>Oxygen</td>\n",
       "      <td>7.22.2013</td>\n",
       "      <td>2013.0</td>\n",
       "      <td>27.06.2019</td>\n",
       "      <td>4</td>\n",
       "    </tr>\n",
       "    <tr>\n",
       "      <th>6</th>\n",
       "      <td>RL1612</td>\n",
       "      <td>4353</td>\n",
       "      <td>34d</td>\n",
       "      <td>M</td>\n",
       "      <td>AA</td>\n",
       "      <td>5</td>\n",
       "      <td>BA9</td>\n",
       "      <td>Probably overlay</td>\n",
       "      <td>R090</td>\n",
       "      <td>Asphyxia</td>\n",
       "      <td>Oxygen</td>\n",
       "      <td>10.04.2011</td>\n",
       "      <td>2011.0</td>\n",
       "      <td>20.11.2018</td>\n",
       "      <td>5</td>\n",
       "    </tr>\n",
       "  </tbody>\n",
       "</table>\n",
       "</div>"
      ],
      "text/plain": [
       "      RL#  Sample ID   Age Sex   Race  PMI Brain Regions*  \\\n",
       "1  RL2103       1085  ga22   M     AA    5            BA9   \n",
       "2  RL2107       4320  ga24   M     AA    9            BA9   \n",
       "3  RL2121       5900  ga34   F  White   23            BA9   \n",
       "5  RL1777       4375    2d   F  White   26            BA8   \n",
       "6  RL1612       4353   34d   M     AA    5            BA9   \n",
       "\n",
       "                          Cause of Death ICD-10 Code ICD-10 category  \\\n",
       "1              Respiratory Insufficiency         108       Perinatal   \n",
       "2  Prematurity, Hyaline membrane disease         108       Perinatal   \n",
       "3         Hypoplatic Left Heart Syndrome         108       Perinatal   \n",
       "5                    Positional asphyxia        R090        Asphyxia   \n",
       "6                       Probably overlay        R090        Asphyxia   \n",
       "\n",
       "  Oxygen/No Oxygen Date-of-Collection  Collection_year Library Prep Date  \\\n",
       "1           Oxygen                NaN              NaN        28.03.2020   \n",
       "2        No Oxygen                NaN              NaN        28.03.2020   \n",
       "3        No Oxygen         11.01.2015           2015.0        16.04.2020   \n",
       "5           Oxygen          7.22.2013           2013.0        27.06.2019   \n",
       "6           Oxygen         10.04.2011           2011.0        20.11.2018   \n",
       "\n",
       "   Library Prep Lot  \n",
       "1                 1  \n",
       "2                 1  \n",
       "3                 2  \n",
       "5                 4  \n",
       "6                 5  "
      ]
     },
     "execution_count": 10,
     "metadata": {},
     "output_type": "execute_result"
    }
   ],
   "source": [
    "sample_metrics_df = pd.read_csv( '../data/Sample_Metrics.csv', header=[0], index_col=[0])\n",
    "sample_metrics_df.head()"
   ]
  },
  {
   "cell_type": "code",
   "execution_count": 11,
   "metadata": {
    "ExecuteTime": {
     "end_time": "2022-08-08T05:23:48.030807Z",
     "start_time": "2022-08-08T05:23:47.807858Z"
    }
   },
   "outputs": [
    {
     "name": "stderr",
     "output_type": "stream",
     "text": [
      "AnnData expects .obs.index to contain strings, but your first indices are: Int64Index([0, 1], dtype='int64'), …\n"
     ]
    },
    {
     "data": {
      "text/html": [
       "<div>\n",
       "<style scoped>\n",
       "    .dataframe tbody tr th:only-of-type {\n",
       "        vertical-align: middle;\n",
       "    }\n",
       "\n",
       "    .dataframe tbody tr th {\n",
       "        vertical-align: top;\n",
       "    }\n",
       "\n",
       "    .dataframe thead th {\n",
       "        text-align: right;\n",
       "    }\n",
       "</style>\n",
       "<table border=\"1\" class=\"dataframe\">\n",
       "  <thead>\n",
       "    <tr style=\"text-align: right;\">\n",
       "      <th></th>\n",
       "      <th>batch</th>\n",
       "      <th>RL#</th>\n",
       "      <th>age</th>\n",
       "      <th>chem</th>\n",
       "      <th>concat_id</th>\n",
       "      <th>numerical_age</th>\n",
       "      <th>stage_id</th>\n",
       "      <th>Sex</th>\n",
       "      <th>Race</th>\n",
       "      <th>PMI</th>\n",
       "      <th>Brain Regions*</th>\n",
       "      <th>Cause of Death</th>\n",
       "      <th>ICD-10 Code</th>\n",
       "      <th>ICD-10 category</th>\n",
       "      <th>Oxygen/No Oxygen</th>\n",
       "      <th>Date-of-Collection</th>\n",
       "      <th>Collection_year</th>\n",
       "      <th>Library Prep Date</th>\n",
       "      <th>Library Prep Lot</th>\n",
       "    </tr>\n",
       "  </thead>\n",
       "  <tbody>\n",
       "    <tr>\n",
       "      <th>TTTGTTGCACCGCTGA-RL2132_25yr_v3</th>\n",
       "      <td>RL2132_25yr_v3</td>\n",
       "      <td>RL2132</td>\n",
       "      <td>25yr</td>\n",
       "      <td>v3</td>\n",
       "      <td>26</td>\n",
       "      <td>25.0</td>\n",
       "      <td>Adult</td>\n",
       "      <td>F</td>\n",
       "      <td>AA</td>\n",
       "      <td>24</td>\n",
       "      <td>BA10</td>\n",
       "      <td>Occlusive Pulmonary Thromboembolism</td>\n",
       "      <td>126</td>\n",
       "      <td>Circulatory System</td>\n",
       "      <td>No oxygen</td>\n",
       "      <td>04.30.2014</td>\n",
       "      <td>2014.0</td>\n",
       "      <td>24.04.2020</td>\n",
       "      <td>8</td>\n",
       "    </tr>\n",
       "    <tr>\n",
       "      <th>TTTGTTGCAGAATGTA-RL2132_25yr_v3</th>\n",
       "      <td>RL2132_25yr_v3</td>\n",
       "      <td>RL2132</td>\n",
       "      <td>25yr</td>\n",
       "      <td>v3</td>\n",
       "      <td>26</td>\n",
       "      <td>25.0</td>\n",
       "      <td>Adult</td>\n",
       "      <td>F</td>\n",
       "      <td>AA</td>\n",
       "      <td>24</td>\n",
       "      <td>BA10</td>\n",
       "      <td>Occlusive Pulmonary Thromboembolism</td>\n",
       "      <td>126</td>\n",
       "      <td>Circulatory System</td>\n",
       "      <td>No oxygen</td>\n",
       "      <td>04.30.2014</td>\n",
       "      <td>2014.0</td>\n",
       "      <td>24.04.2020</td>\n",
       "      <td>8</td>\n",
       "    </tr>\n",
       "    <tr>\n",
       "      <th>TTTGTTGGTAAGGTCG-RL2132_25yr_v3</th>\n",
       "      <td>RL2132_25yr_v3</td>\n",
       "      <td>RL2132</td>\n",
       "      <td>25yr</td>\n",
       "      <td>v3</td>\n",
       "      <td>26</td>\n",
       "      <td>25.0</td>\n",
       "      <td>Adult</td>\n",
       "      <td>F</td>\n",
       "      <td>AA</td>\n",
       "      <td>24</td>\n",
       "      <td>BA10</td>\n",
       "      <td>Occlusive Pulmonary Thromboembolism</td>\n",
       "      <td>126</td>\n",
       "      <td>Circulatory System</td>\n",
       "      <td>No oxygen</td>\n",
       "      <td>04.30.2014</td>\n",
       "      <td>2014.0</td>\n",
       "      <td>24.04.2020</td>\n",
       "      <td>8</td>\n",
       "    </tr>\n",
       "    <tr>\n",
       "      <th>TTTGTTGGTTCGGCTG-RL2132_25yr_v3</th>\n",
       "      <td>RL2132_25yr_v3</td>\n",
       "      <td>RL2132</td>\n",
       "      <td>25yr</td>\n",
       "      <td>v3</td>\n",
       "      <td>26</td>\n",
       "      <td>25.0</td>\n",
       "      <td>Adult</td>\n",
       "      <td>F</td>\n",
       "      <td>AA</td>\n",
       "      <td>24</td>\n",
       "      <td>BA10</td>\n",
       "      <td>Occlusive Pulmonary Thromboembolism</td>\n",
       "      <td>126</td>\n",
       "      <td>Circulatory System</td>\n",
       "      <td>No oxygen</td>\n",
       "      <td>04.30.2014</td>\n",
       "      <td>2014.0</td>\n",
       "      <td>24.04.2020</td>\n",
       "      <td>8</td>\n",
       "    </tr>\n",
       "    <tr>\n",
       "      <th>TTTGTTGTCGTCCTCA-RL2132_25yr_v3</th>\n",
       "      <td>RL2132_25yr_v3</td>\n",
       "      <td>RL2132</td>\n",
       "      <td>25yr</td>\n",
       "      <td>v3</td>\n",
       "      <td>26</td>\n",
       "      <td>25.0</td>\n",
       "      <td>Adult</td>\n",
       "      <td>F</td>\n",
       "      <td>AA</td>\n",
       "      <td>24</td>\n",
       "      <td>BA10</td>\n",
       "      <td>Occlusive Pulmonary Thromboembolism</td>\n",
       "      <td>126</td>\n",
       "      <td>Circulatory System</td>\n",
       "      <td>No oxygen</td>\n",
       "      <td>04.30.2014</td>\n",
       "      <td>2014.0</td>\n",
       "      <td>24.04.2020</td>\n",
       "      <td>8</td>\n",
       "    </tr>\n",
       "  </tbody>\n",
       "</table>\n",
       "</div>"
      ],
      "text/plain": [
       "                                          batch     RL#   age chem concat_id  \\\n",
       "TTTGTTGCACCGCTGA-RL2132_25yr_v3  RL2132_25yr_v3  RL2132  25yr   v3        26   \n",
       "TTTGTTGCAGAATGTA-RL2132_25yr_v3  RL2132_25yr_v3  RL2132  25yr   v3        26   \n",
       "TTTGTTGGTAAGGTCG-RL2132_25yr_v3  RL2132_25yr_v3  RL2132  25yr   v3        26   \n",
       "TTTGTTGGTTCGGCTG-RL2132_25yr_v3  RL2132_25yr_v3  RL2132  25yr   v3        26   \n",
       "TTTGTTGTCGTCCTCA-RL2132_25yr_v3  RL2132_25yr_v3  RL2132  25yr   v3        26   \n",
       "\n",
       "                                 numerical_age stage_id Sex Race  PMI  \\\n",
       "TTTGTTGCACCGCTGA-RL2132_25yr_v3           25.0    Adult   F   AA   24   \n",
       "TTTGTTGCAGAATGTA-RL2132_25yr_v3           25.0    Adult   F   AA   24   \n",
       "TTTGTTGGTAAGGTCG-RL2132_25yr_v3           25.0    Adult   F   AA   24   \n",
       "TTTGTTGGTTCGGCTG-RL2132_25yr_v3           25.0    Adult   F   AA   24   \n",
       "TTTGTTGTCGTCCTCA-RL2132_25yr_v3           25.0    Adult   F   AA   24   \n",
       "\n",
       "                                Brain Regions*  \\\n",
       "TTTGTTGCACCGCTGA-RL2132_25yr_v3           BA10   \n",
       "TTTGTTGCAGAATGTA-RL2132_25yr_v3           BA10   \n",
       "TTTGTTGGTAAGGTCG-RL2132_25yr_v3           BA10   \n",
       "TTTGTTGGTTCGGCTG-RL2132_25yr_v3           BA10   \n",
       "TTTGTTGTCGTCCTCA-RL2132_25yr_v3           BA10   \n",
       "\n",
       "                                                      Cause of Death  \\\n",
       "TTTGTTGCACCGCTGA-RL2132_25yr_v3  Occlusive Pulmonary Thromboembolism   \n",
       "TTTGTTGCAGAATGTA-RL2132_25yr_v3  Occlusive Pulmonary Thromboembolism   \n",
       "TTTGTTGGTAAGGTCG-RL2132_25yr_v3  Occlusive Pulmonary Thromboembolism   \n",
       "TTTGTTGGTTCGGCTG-RL2132_25yr_v3  Occlusive Pulmonary Thromboembolism   \n",
       "TTTGTTGTCGTCCTCA-RL2132_25yr_v3  Occlusive Pulmonary Thromboembolism   \n",
       "\n",
       "                                ICD-10 Code     ICD-10 category  \\\n",
       "TTTGTTGCACCGCTGA-RL2132_25yr_v3         126  Circulatory System   \n",
       "TTTGTTGCAGAATGTA-RL2132_25yr_v3         126  Circulatory System   \n",
       "TTTGTTGGTAAGGTCG-RL2132_25yr_v3         126  Circulatory System   \n",
       "TTTGTTGGTTCGGCTG-RL2132_25yr_v3         126  Circulatory System   \n",
       "TTTGTTGTCGTCCTCA-RL2132_25yr_v3         126  Circulatory System   \n",
       "\n",
       "                                Oxygen/No Oxygen Date-of-Collection  \\\n",
       "TTTGTTGCACCGCTGA-RL2132_25yr_v3        No oxygen         04.30.2014   \n",
       "TTTGTTGCAGAATGTA-RL2132_25yr_v3        No oxygen         04.30.2014   \n",
       "TTTGTTGGTAAGGTCG-RL2132_25yr_v3        No oxygen         04.30.2014   \n",
       "TTTGTTGGTTCGGCTG-RL2132_25yr_v3        No oxygen         04.30.2014   \n",
       "TTTGTTGTCGTCCTCA-RL2132_25yr_v3        No oxygen         04.30.2014   \n",
       "\n",
       "                                 Collection_year Library Prep Date  \\\n",
       "TTTGTTGCACCGCTGA-RL2132_25yr_v3           2014.0        24.04.2020   \n",
       "TTTGTTGCAGAATGTA-RL2132_25yr_v3           2014.0        24.04.2020   \n",
       "TTTGTTGGTAAGGTCG-RL2132_25yr_v3           2014.0        24.04.2020   \n",
       "TTTGTTGGTTCGGCTG-RL2132_25yr_v3           2014.0        24.04.2020   \n",
       "TTTGTTGTCGTCCTCA-RL2132_25yr_v3           2014.0        24.04.2020   \n",
       "\n",
       "                                 Library Prep Lot  \n",
       "TTTGTTGCACCGCTGA-RL2132_25yr_v3                 8  \n",
       "TTTGTTGCAGAATGTA-RL2132_25yr_v3                 8  \n",
       "TTTGTTGGTAAGGTCG-RL2132_25yr_v3                 8  \n",
       "TTTGTTGGTTCGGCTG-RL2132_25yr_v3                 8  \n",
       "TTTGTTGTCGTCCTCA-RL2132_25yr_v3                 8  "
      ]
     },
     "execution_count": 11,
     "metadata": {},
     "output_type": "execute_result"
    }
   ],
   "source": [
    "# save index to reset after merge\n",
    "obs_names = adata.obs_names\n",
    "# fill values in adata.obs with metrics\n",
    "adata.obs = adata.obs.merge( sample_metrics_df, how='left')\n",
    "# remove duplicate and unwanted columns\n",
    "adata.obs.drop( labels=['Sample ID','Age'], axis='columns', inplace=True)\n",
    "# add back in BCs after being stripped by merge\n",
    "adata.obs_names = obs_names\n",
    "adata.obs.tail()"
   ]
  },
  {
   "cell_type": "markdown",
   "metadata": {},
   "source": [
    "### Save anndata to h5ad"
   ]
  },
  {
   "cell_type": "code",
   "execution_count": 12,
   "metadata": {
    "ExecuteTime": {
     "end_time": "2022-08-08T05:23:58.506018Z",
     "start_time": "2022-08-08T05:23:48.032797Z"
    }
   },
   "outputs": [
    {
     "name": "stderr",
     "output_type": "stream",
     "text": [
      "... storing 'batch' as categorical\n",
      "... storing 'RL#' as categorical\n",
      "... storing 'age' as categorical\n",
      "... storing 'chem' as categorical\n",
      "... storing 'Sex' as categorical\n",
      "... storing 'Race' as categorical\n",
      "... storing 'Brain Regions*' as categorical\n",
      "... storing 'Cause of Death' as categorical\n",
      "... storing 'ICD-10 Code' as categorical\n",
      "... storing 'ICD-10 category' as categorical\n",
      "... storing 'Oxygen/No Oxygen' as categorical\n",
      "... storing 'Date-of-Collection' as categorical\n",
      "... storing 'Library Prep Date' as categorical\n",
      "... storing 'feature_types' as categorical\n",
      "... storing 'non-unique_names' as categorical\n"
     ]
    }
   ],
   "source": [
    "adata.write( \"../data/combined_count_matrices.h5ad\")"
   ]
  }
 ],
 "metadata": {
  "kernelspec": {
   "display_name": "new_bm",
   "language": "python",
   "name": "new_bm"
  },
  "language_info": {
   "codemirror_mode": {
    "name": "ipython",
    "version": 3
   },
   "file_extension": ".py",
   "mimetype": "text/x-python",
   "name": "python",
   "nbconvert_exporter": "python",
   "pygments_lexer": "ipython3",
   "version": "3.7.6"
  },
  "varInspector": {
   "cols": {
    "lenName": 16,
    "lenType": 16,
    "lenVar": 40
   },
   "kernels_config": {
    "python": {
     "delete_cmd_postfix": "",
     "delete_cmd_prefix": "del ",
     "library": "var_list.py",
     "varRefreshCmd": "print(var_dic_list())"
    },
    "r": {
     "delete_cmd_postfix": ") ",
     "delete_cmd_prefix": "rm(",
     "library": "var_list.r",
     "varRefreshCmd": "cat(var_dic_list()) "
    }
   },
   "types_to_exclude": [
    "module",
    "function",
    "builtin_function_or_method",
    "instance",
    "_Feature"
   ],
   "window_display": false
  }
 },
 "nbformat": 4,
 "nbformat_minor": 4
}
