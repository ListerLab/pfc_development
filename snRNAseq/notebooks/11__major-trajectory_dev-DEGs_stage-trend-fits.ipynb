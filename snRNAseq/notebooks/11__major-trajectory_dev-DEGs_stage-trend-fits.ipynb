{
 "cells": [
  {
   "cell_type": "code",
   "execution_count": 1,
   "metadata": {
    "ExecuteTime": {
     "end_time": "2021-08-27T03:24:57.215267Z",
     "start_time": "2021-08-27T03:24:30.803049Z"
    }
   },
   "outputs": [
    {
     "name": "stdout",
     "output_type": "stream",
     "text": [
      "scanpy==1.6.0 anndata==0.7.4 umap==0.4.3 numpy==1.18.2 scipy==1.4.1 pandas==1.0.3 scikit-learn==0.22.2.post1 statsmodels==0.10.1 python-igraph==0.8.0 louvain==0.6.1 leidenalg==0.8.0\n"
     ]
    }
   ],
   "source": [
    "import scanpy as sc\n",
    "import numpy as np\n",
    "import pandas as pd\n",
    "import matplotlib.pyplot as plt\n",
    "%matplotlib inline\n",
    "import matplotlib\n",
    "import math\n",
    "import seaborn as sns\n",
    "import os\n",
    "\n",
    "# less common imports\n",
    "import matplotlib.image as mpimg\n",
    "from pygam import LinearGAM, GAM, s, l\n",
    "from sklearn import preprocessing\n",
    "from scipy import stats\n",
    "from scipy import spatial\n",
    "from scipy.stats import f\n",
    "from sklearn.cluster import AgglomerativeClustering\n",
    "import shutil\n",
    "import gc\n",
    "from seaborn import clustermap\n",
    "import matplotlib.cm as cm\n",
    "\n",
    "# %config IPCompleter.greedy=True\n",
    "%load_ext autoreload\n",
    "%autoreload 2\n",
    "\n",
    "sc.settings.verbosity = 0\n",
    "sc.logging.print_header()\n",
    "sns.set_context(\"paper\")"
   ]
  },
  {
   "cell_type": "code",
   "execution_count": 2,
   "metadata": {
    "ExecuteTime": {
     "end_time": "2021-08-27T03:24:57.815788Z",
     "start_time": "2021-08-27T03:24:57.217363Z"
    }
   },
   "outputs": [],
   "source": [
    "# import local module containing misc code, helps keep notebooks clean from commonly used functions\n",
    "import sys\n",
    "sys.path.insert(0, '../')\n",
    "import new_misc_code as nmc "
   ]
  },
  {
   "cell_type": "markdown",
   "metadata": {},
   "source": [
    "## **Format logTMM data from limma-voom into workable form for GAM curve fitting**"
   ]
  },
  {
   "cell_type": "code",
   "execution_count": 3,
   "metadata": {},
   "outputs": [],
   "source": [
    "# Set path and read in logTMM normalized data from limma-voom output directories\n",
    "# These directories can be downloaded from http://brain.listerlab.org/Major-Traj-Limma-Voom.html\n",
    "dt_path = \"../data/limma-voom/\"\n",
    "dt_fls = os.listdir( path=dt_path)"
   ]
  },
  {
   "cell_type": "code",
   "execution_count": 4,
   "metadata": {},
   "outputs": [],
   "source": [
    "# read in anndata for obs\n",
    "adata = sc.read_h5ad( \"../data/post-gaba-wt-dev-traj.h5ad\")\n",
    "obs_df = adata.obs\n",
    "# clean up dataframe by dropping all duplicates of batch entries\n",
    "obs_df.drop_duplicates( subset='batch', keep=\"first\", inplace=True)"
   ]
  },
  {
   "cell_type": "code",
   "execution_count": 5,
   "metadata": {
    "ExecuteTime": {
     "end_time": "2021-08-27T03:25:07.284268Z",
     "start_time": "2021-08-27T03:25:07.132616Z"
    }
   },
   "outputs": [
    {
     "data": {
      "text/plain": [
       "['glimma_dev-traj_Astro',\n",
       " 'glimma_dev-traj_ID2',\n",
       " 'glimma_dev-traj_L2-3_CUX2',\n",
       " 'glimma_dev-traj_L4_RORB',\n",
       " 'glimma_dev-traj_L5-6_THEMIS',\n",
       " 'glimma_dev-traj_L5-6_TLE4',\n",
       " 'glimma_dev-traj_LAMP5_NOS1',\n",
       " 'glimma_dev-traj_Micro',\n",
       " 'glimma_dev-traj_Oligo',\n",
       " 'glimma_dev-traj_OPC',\n",
       " 'glimma_dev-traj_Poor-Quality',\n",
       " 'glimma_dev-traj_PV',\n",
       " 'glimma_dev-traj_PV_SCUBE3',\n",
       " 'glimma_dev-traj_SST',\n",
       " 'glimma_dev-traj_Vas',\n",
       " 'glimma_dev-traj_VIP']"
      ]
     },
     "execution_count": 5,
     "metadata": {},
     "output_type": "execute_result"
    }
   ],
   "source": [
    "# select for limma dev-traj directories\n",
    "###############################\n",
    "dt_oi = \"glimma_dev-traj_\"\n",
    "###############################\n",
    "oi_fls = [ii for ii in dt_fls if dt_oi in ii]\n",
    "oi_fls"
   ]
  },
  {
   "cell_type": "code",
   "execution_count": 6,
   "metadata": {
    "ExecuteTime": {
     "end_time": "2021-08-27T03:25:31.352546Z",
     "start_time": "2021-08-27T03:25:07.285730Z"
    }
   },
   "outputs": [
    {
     "name": "stdout",
     "output_type": "stream",
     "text": [
      "Astro\n",
      "ID2\n",
      "L2-3_CUX2\n",
      "L4_RORB\n",
      "L5-6_THEMIS\n",
      "L5-6_TLE4\n",
      "LAMP5_NOS1\n",
      "Micro\n",
      "Oligo\n",
      "OPC\n",
      "PV\n",
      "PV_SCUBE3\n",
      "SST\n",
      "No sig genes found for Vas\n",
      "VIP\n"
     ]
    }
   ],
   "source": [
    "# 1) read in results files for each and pull sig genes\n",
    "# 2) read in pseudo-bulk logTMM from limma voom\n",
    "sig_genes = {}\n",
    "logTMMs = {}\n",
    "for fl_itr in oi_fls:\n",
    "    # clean up file name to use as dict key\n",
    "    key = fl_itr.replace(\"glimma_\", \"\")\n",
    "    key = key.split('-obs')[0]\n",
    "    key = key.split('dev-traj_')[1]\n",
    "    # skip poor quality nucs\n",
    "    if key=='Poor-Quality':\n",
    "        continue\n",
    "    # read in results file\n",
    "    results = pd.read_table( f\"{dt_path}{fl_itr}/results_file.txt\")\n",
    "    # find and pull all results columns \n",
    "    res_cols = [ii for ii in results.columns if 'Res' in ii]\n",
    "    res_df = results[res_cols]\n",
    "    \n",
    "    # find all genes signifcant for any stage comparison\n",
    "    sig_mk = np.any( ( res_df!=0).values, axis=1)\n",
    "    # if no sig genes found skip run\n",
    "    if( sum(sig_mk)==0):\n",
    "        print( f\"No sig genes found for {key}\")\n",
    "        continue\n",
    "    # set to dict\n",
    "    sig_genes[key] = results.index.values[sig_mk]\n",
    "    \n",
    "    # read in pseudo-bulk logTMM\n",
    "    bk_df = pd.read_csv( f\"{dt_path}{fl_itr}/logTMM_cts.csv\", index_col=[0])\n",
    "    # clean up columns labels, make them batch\n",
    "    bk_df.columns = [ii.split('..')[1] for ii in bk_df.columns.values]\n",
    "    # order columns by age of maturation\n",
    "    batch_mk = np.in1d( adata.uns['batch_order'], bk_df.columns)\n",
    "    batch_order_itr = np.array( adata.uns['batch_order'])[batch_mk]\n",
    "    bk_df = bk_df[batch_order_itr]\n",
    "    # reduce bulk data to sig genes only\n",
    "    sig_bk_df = bk_df.loc[sig_genes[key]]\n",
    "    print(key)\n",
    "    # set to dict\n",
    "    logTMMs[key] = sig_bk_df\n",
    "# sig_genes"
   ]
  },
  {
   "cell_type": "code",
   "execution_count": 28,
   "metadata": {},
   "outputs": [],
   "source": [
    "# save to use in future analysis\n",
    "nmc.save_obj( logTMMs, f\"../data/logTMMs.pkl\")"
   ]
  },
  {
   "cell_type": "code",
   "execution_count": 7,
   "metadata": {
    "ExecuteTime": {
     "end_time": "2021-08-27T03:25:31.498986Z",
     "start_time": "2021-08-27T03:25:31.354405Z"
    }
   },
   "outputs": [
    {
     "name": "stdout",
     "output_type": "stream",
     "text": [
      "Astro (3497,)\n",
      "ID2 (3755,)\n",
      "L2-3_CUX2 (8842,)\n",
      "L4_RORB (8885,)\n",
      "L5-6_THEMIS (6924,)\n",
      "L5-6_TLE4 (7239,)\n",
      "LAMP5_NOS1 (2514,)\n",
      "Micro (58,)\n",
      "Oligo (2540,)\n",
      "OPC (1321,)\n",
      "PV (5558,)\n",
      "PV_SCUBE3 (2745,)\n",
      "SST (4377,)\n",
      "VIP (4624,)\n"
     ]
    }
   ],
   "source": [
    "for iii, jjj in sig_genes.items():\n",
    "    print( iii, jjj.shape)"
   ]
  },
  {
   "cell_type": "code",
   "execution_count": 8,
   "metadata": {
    "ExecuteTime": {
     "end_time": "2021-08-27T03:25:40.118241Z",
     "start_time": "2021-08-27T03:25:40.056997Z"
    }
   },
   "outputs": [
    {
     "data": {
      "text/html": [
       "<div>\n",
       "<style scoped>\n",
       "    .dataframe tbody tr th:only-of-type {\n",
       "        vertical-align: middle;\n",
       "    }\n",
       "\n",
       "    .dataframe tbody tr th {\n",
       "        vertical-align: top;\n",
       "    }\n",
       "\n",
       "    .dataframe thead th {\n",
       "        text-align: right;\n",
       "    }\n",
       "</style>\n",
       "<table border=\"1\" class=\"dataframe\">\n",
       "  <thead>\n",
       "    <tr style=\"text-align: right;\">\n",
       "      <th></th>\n",
       "      <th>RL2103_ga22_v3</th>\n",
       "      <th>RL2107_ga24_v3</th>\n",
       "      <th>RL2121_ga34_v3</th>\n",
       "      <th>RL1777_2d_v3</th>\n",
       "      <th>RL1612_34d_v2</th>\n",
       "      <th>RL2100_86d_v3</th>\n",
       "      <th>RL2104_118d_v3</th>\n",
       "      <th>RL2108_179d_v3</th>\n",
       "      <th>RL2122_301d_v3</th>\n",
       "      <th>RL2125_422d_v3</th>\n",
       "      <th>...</th>\n",
       "      <th>RL2110_10yr_v3</th>\n",
       "      <th>RL2126_10yr_v3</th>\n",
       "      <th>RL2127_12yr_v3</th>\n",
       "      <th>RL2130_14yr_v3</th>\n",
       "      <th>RL2102_16yr_v3</th>\n",
       "      <th>RL2131_17yr_v3</th>\n",
       "      <th>RL2123_20yr_v3</th>\n",
       "      <th>RL2128_20yr_v3</th>\n",
       "      <th>RL2132_25yr_v3</th>\n",
       "      <th>RL2124_40yr_v3</th>\n",
       "    </tr>\n",
       "  </thead>\n",
       "  <tbody>\n",
       "    <tr>\n",
       "      <th>RP4-669L17.10</th>\n",
       "      <td>3.262914</td>\n",
       "      <td>2.563581</td>\n",
       "      <td>5.441405</td>\n",
       "      <td>3.789194</td>\n",
       "      <td>3.777097</td>\n",
       "      <td>4.668260</td>\n",
       "      <td>3.590798</td>\n",
       "      <td>4.147364</td>\n",
       "      <td>5.336433</td>\n",
       "      <td>4.960163</td>\n",
       "      <td>...</td>\n",
       "      <td>5.278157</td>\n",
       "      <td>5.440160</td>\n",
       "      <td>5.193255</td>\n",
       "      <td>5.352841</td>\n",
       "      <td>5.165714</td>\n",
       "      <td>4.598815</td>\n",
       "      <td>5.703545</td>\n",
       "      <td>4.824757</td>\n",
       "      <td>4.666973</td>\n",
       "      <td>5.538194</td>\n",
       "    </tr>\n",
       "    <tr>\n",
       "      <th>HES4</th>\n",
       "      <td>8.114207</td>\n",
       "      <td>8.675959</td>\n",
       "      <td>6.533670</td>\n",
       "      <td>8.162519</td>\n",
       "      <td>7.155232</td>\n",
       "      <td>6.822653</td>\n",
       "      <td>7.475238</td>\n",
       "      <td>6.808007</td>\n",
       "      <td>2.653773</td>\n",
       "      <td>3.480646</td>\n",
       "      <td>...</td>\n",
       "      <td>6.554246</td>\n",
       "      <td>3.895045</td>\n",
       "      <td>4.002476</td>\n",
       "      <td>6.637216</td>\n",
       "      <td>6.482754</td>\n",
       "      <td>5.844978</td>\n",
       "      <td>5.066663</td>\n",
       "      <td>5.929921</td>\n",
       "      <td>6.356468</td>\n",
       "      <td>4.827944</td>\n",
       "    </tr>\n",
       "    <tr>\n",
       "      <th>B3GALT6</th>\n",
       "      <td>4.381164</td>\n",
       "      <td>3.205800</td>\n",
       "      <td>3.550417</td>\n",
       "      <td>3.986218</td>\n",
       "      <td>4.176051</td>\n",
       "      <td>3.571567</td>\n",
       "      <td>3.496453</td>\n",
       "      <td>3.535681</td>\n",
       "      <td>-0.718015</td>\n",
       "      <td>2.302078</td>\n",
       "      <td>...</td>\n",
       "      <td>3.185246</td>\n",
       "      <td>1.831968</td>\n",
       "      <td>1.884341</td>\n",
       "      <td>2.157840</td>\n",
       "      <td>2.090287</td>\n",
       "      <td>2.927427</td>\n",
       "      <td>1.794633</td>\n",
       "      <td>2.228402</td>\n",
       "      <td>2.401556</td>\n",
       "      <td>1.428959</td>\n",
       "    </tr>\n",
       "    <tr>\n",
       "      <th>SCNN1D</th>\n",
       "      <td>2.351506</td>\n",
       "      <td>1.704798</td>\n",
       "      <td>3.896255</td>\n",
       "      <td>2.709747</td>\n",
       "      <td>3.526801</td>\n",
       "      <td>4.354930</td>\n",
       "      <td>2.901563</td>\n",
       "      <td>3.650960</td>\n",
       "      <td>4.545267</td>\n",
       "      <td>3.736044</td>\n",
       "      <td>...</td>\n",
       "      <td>5.563548</td>\n",
       "      <td>4.538673</td>\n",
       "      <td>4.148996</td>\n",
       "      <td>3.750216</td>\n",
       "      <td>5.260352</td>\n",
       "      <td>4.178468</td>\n",
       "      <td>5.579543</td>\n",
       "      <td>4.981960</td>\n",
       "      <td>3.415214</td>\n",
       "      <td>4.111419</td>\n",
       "    </tr>\n",
       "    <tr>\n",
       "      <th>MORN1</th>\n",
       "      <td>4.216491</td>\n",
       "      <td>2.981973</td>\n",
       "      <td>4.609465</td>\n",
       "      <td>4.058063</td>\n",
       "      <td>3.990321</td>\n",
       "      <td>4.239048</td>\n",
       "      <td>3.841649</td>\n",
       "      <td>4.133640</td>\n",
       "      <td>3.582350</td>\n",
       "      <td>3.679891</td>\n",
       "      <td>...</td>\n",
       "      <td>4.704451</td>\n",
       "      <td>5.151509</td>\n",
       "      <td>4.472182</td>\n",
       "      <td>4.693571</td>\n",
       "      <td>5.305440</td>\n",
       "      <td>4.545758</td>\n",
       "      <td>4.639772</td>\n",
       "      <td>5.089552</td>\n",
       "      <td>4.363615</td>\n",
       "      <td>5.143683</td>\n",
       "    </tr>\n",
       "  </tbody>\n",
       "</table>\n",
       "<p>5 rows × 27 columns</p>\n",
       "</div>"
      ],
      "text/plain": [
       "               RL2103_ga22_v3  RL2107_ga24_v3  RL2121_ga34_v3  RL1777_2d_v3  \\\n",
       "RP4-669L17.10        3.262914        2.563581        5.441405      3.789194   \n",
       "HES4                 8.114207        8.675959        6.533670      8.162519   \n",
       "B3GALT6              4.381164        3.205800        3.550417      3.986218   \n",
       "SCNN1D               2.351506        1.704798        3.896255      2.709747   \n",
       "MORN1                4.216491        2.981973        4.609465      4.058063   \n",
       "\n",
       "               RL1612_34d_v2  RL2100_86d_v3  RL2104_118d_v3  RL2108_179d_v3  \\\n",
       "RP4-669L17.10       3.777097       4.668260        3.590798        4.147364   \n",
       "HES4                7.155232       6.822653        7.475238        6.808007   \n",
       "B3GALT6             4.176051       3.571567        3.496453        3.535681   \n",
       "SCNN1D              3.526801       4.354930        2.901563        3.650960   \n",
       "MORN1               3.990321       4.239048        3.841649        4.133640   \n",
       "\n",
       "               RL2122_301d_v3  RL2125_422d_v3  ...  RL2110_10yr_v3  \\\n",
       "RP4-669L17.10        5.336433        4.960163  ...        5.278157   \n",
       "HES4                 2.653773        3.480646  ...        6.554246   \n",
       "B3GALT6             -0.718015        2.302078  ...        3.185246   \n",
       "SCNN1D               4.545267        3.736044  ...        5.563548   \n",
       "MORN1                3.582350        3.679891  ...        4.704451   \n",
       "\n",
       "               RL2126_10yr_v3  RL2127_12yr_v3  RL2130_14yr_v3  RL2102_16yr_v3  \\\n",
       "RP4-669L17.10        5.440160        5.193255        5.352841        5.165714   \n",
       "HES4                 3.895045        4.002476        6.637216        6.482754   \n",
       "B3GALT6              1.831968        1.884341        2.157840        2.090287   \n",
       "SCNN1D               4.538673        4.148996        3.750216        5.260352   \n",
       "MORN1                5.151509        4.472182        4.693571        5.305440   \n",
       "\n",
       "               RL2131_17yr_v3  RL2123_20yr_v3  RL2128_20yr_v3  RL2132_25yr_v3  \\\n",
       "RP4-669L17.10        4.598815        5.703545        4.824757        4.666973   \n",
       "HES4                 5.844978        5.066663        5.929921        6.356468   \n",
       "B3GALT6              2.927427        1.794633        2.228402        2.401556   \n",
       "SCNN1D               4.178468        5.579543        4.981960        3.415214   \n",
       "MORN1                4.545758        4.639772        5.089552        4.363615   \n",
       "\n",
       "               RL2124_40yr_v3  \n",
       "RP4-669L17.10        5.538194  \n",
       "HES4                 4.827944  \n",
       "B3GALT6              1.428959  \n",
       "SCNN1D               4.111419  \n",
       "MORN1                5.143683  \n",
       "\n",
       "[5 rows x 27 columns]"
      ]
     },
     "execution_count": 8,
     "metadata": {},
     "output_type": "execute_result"
    }
   ],
   "source": [
    "# example logTMM dataframe\n",
    "logTMMs['Astro'].head()"
   ]
  },
  {
   "cell_type": "code",
   "execution_count": 9,
   "metadata": {
    "ExecuteTime": {
     "end_time": "2021-08-27T03:25:40.263191Z",
     "start_time": "2021-08-27T03:25:40.119488Z"
    }
   },
   "outputs": [],
   "source": [
    "# change column names in each logTMM to stage of batch\n",
    "# will use these values as x-axis in curve fitting\n",
    "plot_labels = {}\n",
    "for key_itr in logTMMs.keys():\n",
    "    new_cols = []\n",
    "    for col_itr in logTMMs[key_itr]:\n",
    "        age_itr = obs_df['stage_id'][obs_df['batch']==col_itr].values[0]\n",
    "        new_cols.append( age_itr)\n",
    "    plot_labels[key_itr] = [ii.split('_')[1] for ii in logTMMs[key_itr].columns]\n",
    "    logTMMs[key_itr].columns = new_cols"
   ]
  },
  {
   "cell_type": "code",
   "execution_count": 10,
   "metadata": {
    "ExecuteTime": {
     "end_time": "2021-08-27T03:25:40.313569Z",
     "start_time": "2021-08-27T03:25:40.264507Z"
    }
   },
   "outputs": [
    {
     "data": {
      "text/html": [
       "<div>\n",
       "<style scoped>\n",
       "    .dataframe tbody tr th:only-of-type {\n",
       "        vertical-align: middle;\n",
       "    }\n",
       "\n",
       "    .dataframe tbody tr th {\n",
       "        vertical-align: top;\n",
       "    }\n",
       "\n",
       "    .dataframe thead th {\n",
       "        text-align: right;\n",
       "    }\n",
       "</style>\n",
       "<table border=\"1\" class=\"dataframe\">\n",
       "  <thead>\n",
       "    <tr style=\"text-align: right;\">\n",
       "      <th></th>\n",
       "      <th>Fetal</th>\n",
       "      <th>Fetal</th>\n",
       "      <th>Fetal</th>\n",
       "      <th>Neonatal</th>\n",
       "      <th>Neonatal</th>\n",
       "      <th>Infancy</th>\n",
       "      <th>Infancy</th>\n",
       "      <th>Infancy</th>\n",
       "      <th>Infancy</th>\n",
       "      <th>Childhood</th>\n",
       "      <th>...</th>\n",
       "      <th>Adolescence</th>\n",
       "      <th>Adolescence</th>\n",
       "      <th>Adolescence</th>\n",
       "      <th>Adolescence</th>\n",
       "      <th>Adolescence</th>\n",
       "      <th>Adolescence</th>\n",
       "      <th>Adult</th>\n",
       "      <th>Adult</th>\n",
       "      <th>Adult</th>\n",
       "      <th>Adult</th>\n",
       "    </tr>\n",
       "  </thead>\n",
       "  <tbody>\n",
       "    <tr>\n",
       "      <th>RP4-669L17.10</th>\n",
       "      <td>3.262914</td>\n",
       "      <td>2.563581</td>\n",
       "      <td>5.441405</td>\n",
       "      <td>3.789194</td>\n",
       "      <td>3.777097</td>\n",
       "      <td>4.668260</td>\n",
       "      <td>3.590798</td>\n",
       "      <td>4.147364</td>\n",
       "      <td>5.336433</td>\n",
       "      <td>4.960163</td>\n",
       "      <td>...</td>\n",
       "      <td>5.278157</td>\n",
       "      <td>5.440160</td>\n",
       "      <td>5.193255</td>\n",
       "      <td>5.352841</td>\n",
       "      <td>5.165714</td>\n",
       "      <td>4.598815</td>\n",
       "      <td>5.703545</td>\n",
       "      <td>4.824757</td>\n",
       "      <td>4.666973</td>\n",
       "      <td>5.538194</td>\n",
       "    </tr>\n",
       "    <tr>\n",
       "      <th>HES4</th>\n",
       "      <td>8.114207</td>\n",
       "      <td>8.675959</td>\n",
       "      <td>6.533670</td>\n",
       "      <td>8.162519</td>\n",
       "      <td>7.155232</td>\n",
       "      <td>6.822653</td>\n",
       "      <td>7.475238</td>\n",
       "      <td>6.808007</td>\n",
       "      <td>2.653773</td>\n",
       "      <td>3.480646</td>\n",
       "      <td>...</td>\n",
       "      <td>6.554246</td>\n",
       "      <td>3.895045</td>\n",
       "      <td>4.002476</td>\n",
       "      <td>6.637216</td>\n",
       "      <td>6.482754</td>\n",
       "      <td>5.844978</td>\n",
       "      <td>5.066663</td>\n",
       "      <td>5.929921</td>\n",
       "      <td>6.356468</td>\n",
       "      <td>4.827944</td>\n",
       "    </tr>\n",
       "    <tr>\n",
       "      <th>B3GALT6</th>\n",
       "      <td>4.381164</td>\n",
       "      <td>3.205800</td>\n",
       "      <td>3.550417</td>\n",
       "      <td>3.986218</td>\n",
       "      <td>4.176051</td>\n",
       "      <td>3.571567</td>\n",
       "      <td>3.496453</td>\n",
       "      <td>3.535681</td>\n",
       "      <td>-0.718015</td>\n",
       "      <td>2.302078</td>\n",
       "      <td>...</td>\n",
       "      <td>3.185246</td>\n",
       "      <td>1.831968</td>\n",
       "      <td>1.884341</td>\n",
       "      <td>2.157840</td>\n",
       "      <td>2.090287</td>\n",
       "      <td>2.927427</td>\n",
       "      <td>1.794633</td>\n",
       "      <td>2.228402</td>\n",
       "      <td>2.401556</td>\n",
       "      <td>1.428959</td>\n",
       "    </tr>\n",
       "    <tr>\n",
       "      <th>SCNN1D</th>\n",
       "      <td>2.351506</td>\n",
       "      <td>1.704798</td>\n",
       "      <td>3.896255</td>\n",
       "      <td>2.709747</td>\n",
       "      <td>3.526801</td>\n",
       "      <td>4.354930</td>\n",
       "      <td>2.901563</td>\n",
       "      <td>3.650960</td>\n",
       "      <td>4.545267</td>\n",
       "      <td>3.736044</td>\n",
       "      <td>...</td>\n",
       "      <td>5.563548</td>\n",
       "      <td>4.538673</td>\n",
       "      <td>4.148996</td>\n",
       "      <td>3.750216</td>\n",
       "      <td>5.260352</td>\n",
       "      <td>4.178468</td>\n",
       "      <td>5.579543</td>\n",
       "      <td>4.981960</td>\n",
       "      <td>3.415214</td>\n",
       "      <td>4.111419</td>\n",
       "    </tr>\n",
       "    <tr>\n",
       "      <th>MORN1</th>\n",
       "      <td>4.216491</td>\n",
       "      <td>2.981973</td>\n",
       "      <td>4.609465</td>\n",
       "      <td>4.058063</td>\n",
       "      <td>3.990321</td>\n",
       "      <td>4.239048</td>\n",
       "      <td>3.841649</td>\n",
       "      <td>4.133640</td>\n",
       "      <td>3.582350</td>\n",
       "      <td>3.679891</td>\n",
       "      <td>...</td>\n",
       "      <td>4.704451</td>\n",
       "      <td>5.151509</td>\n",
       "      <td>4.472182</td>\n",
       "      <td>4.693571</td>\n",
       "      <td>5.305440</td>\n",
       "      <td>4.545758</td>\n",
       "      <td>4.639772</td>\n",
       "      <td>5.089552</td>\n",
       "      <td>4.363615</td>\n",
       "      <td>5.143683</td>\n",
       "    </tr>\n",
       "  </tbody>\n",
       "</table>\n",
       "<p>5 rows × 27 columns</p>\n",
       "</div>"
      ],
      "text/plain": [
       "                  Fetal     Fetal     Fetal  Neonatal  Neonatal   Infancy  \\\n",
       "RP4-669L17.10  3.262914  2.563581  5.441405  3.789194  3.777097  4.668260   \n",
       "HES4           8.114207  8.675959  6.533670  8.162519  7.155232  6.822653   \n",
       "B3GALT6        4.381164  3.205800  3.550417  3.986218  4.176051  3.571567   \n",
       "SCNN1D         2.351506  1.704798  3.896255  2.709747  3.526801  4.354930   \n",
       "MORN1          4.216491  2.981973  4.609465  4.058063  3.990321  4.239048   \n",
       "\n",
       "                Infancy   Infancy   Infancy  Childhood  ...  Adolescence  \\\n",
       "RP4-669L17.10  3.590798  4.147364  5.336433   4.960163  ...     5.278157   \n",
       "HES4           7.475238  6.808007  2.653773   3.480646  ...     6.554246   \n",
       "B3GALT6        3.496453  3.535681 -0.718015   2.302078  ...     3.185246   \n",
       "SCNN1D         2.901563  3.650960  4.545267   3.736044  ...     5.563548   \n",
       "MORN1          3.841649  4.133640  3.582350   3.679891  ...     4.704451   \n",
       "\n",
       "               Adolescence  Adolescence  Adolescence  Adolescence  \\\n",
       "RP4-669L17.10     5.440160     5.193255     5.352841     5.165714   \n",
       "HES4              3.895045     4.002476     6.637216     6.482754   \n",
       "B3GALT6           1.831968     1.884341     2.157840     2.090287   \n",
       "SCNN1D            4.538673     4.148996     3.750216     5.260352   \n",
       "MORN1             5.151509     4.472182     4.693571     5.305440   \n",
       "\n",
       "               Adolescence     Adult     Adult     Adult     Adult  \n",
       "RP4-669L17.10     4.598815  5.703545  4.824757  4.666973  5.538194  \n",
       "HES4              5.844978  5.066663  5.929921  6.356468  4.827944  \n",
       "B3GALT6           2.927427  1.794633  2.228402  2.401556  1.428959  \n",
       "SCNN1D            4.178468  5.579543  4.981960  3.415214  4.111419  \n",
       "MORN1             4.545758  4.639772  5.089552  4.363615  5.143683  \n",
       "\n",
       "[5 rows x 27 columns]"
      ]
     },
     "execution_count": 10,
     "metadata": {},
     "output_type": "execute_result"
    }
   ],
   "source": [
    "logTMMs['Astro'].head()"
   ]
  },
  {
   "cell_type": "markdown",
   "metadata": {},
   "source": [
    "## **Fit GAM to each gene across stages**"
   ]
  },
  {
   "cell_type": "code",
   "execution_count": 11,
   "metadata": {
    "ExecuteTime": {
     "end_time": "2021-08-27T03:38:09.270128Z",
     "start_time": "2021-08-27T03:25:40.314887Z"
    }
   },
   "outputs": [
    {
     "name": "stdout",
     "output_type": "stream",
     "text": [
      "Astro\n",
      "ID2\n",
      "L2-3_CUX2\n",
      "L4_RORB\n",
      "L5-6_THEMIS\n",
      "L5-6_TLE4\n",
      "LAMP5_NOS1\n",
      "Micro\n",
      "Oligo\n",
      "OPC\n",
      "PV\n",
      "PV_SCUBE3\n",
      "SST\n",
      "VIP\n"
     ]
    }
   ],
   "source": [
    "# This will take a while to run\n",
    "n_splines = 12\n",
    "n_grid_pts = 100\n",
    "stage_order = adata.uns['stage_order'].tolist()\n",
    "gam_fits = {}\n",
    "r_sqr_dict = {}\n",
    "rates = {}\n",
    "for key_itr, sig_df in logTMMs.items(): \n",
    "    # set x-axis for dev-traj using column values\n",
    "    ax = [stage_order.index(ss) for ss in logTMMs[key_itr]]\n",
    "    # list to hold R^2 values\n",
    "    r_sqr = []\n",
    "    # dataframe to hold fits\n",
    "    fits_df = pd.DataFrame( np.zeros((sig_df.shape[0],n_grid_pts), dtype=float), index=sig_df.index)\n",
    "    # dataframe to hold rates\n",
    "    rates_df = pd.DataFrame( np.zeros((sig_df.shape[0],n_grid_pts-1), dtype=float), index=sig_df.index)\n",
    "    for gene_itr in sig_df.index:\n",
    "        # y-axis gene values\n",
    "        ay = sig_df.loc[gene_itr,:].values\n",
    "        # fit GAM\n",
    "        gam = LinearGAM( s( 0, lam=0.6, n_splines=n_splines), fit_intercept=False).fit( ax, ay)\n",
    "        axx = gam.generate_X_grid( term=0, n=n_grid_pts)\n",
    "        yyy = gam.predict( X=axx)\n",
    "\n",
    "        fits_df.loc[gene_itr,:] = yyy\n",
    "        rates_df.loc[gene_itr,:] = np.diff( yyy)\n",
    "        r_sqr.append( gam.statistics_['pseudo_r2']['explained_deviance'])\n",
    "        \n",
    "    gam_fits[key_itr]   = fits_df  \n",
    "    r_sqr_dict[key_itr] = np.array( r_sqr)\n",
    "    rates[key_itr] = rates_df\n",
    "    print( key_itr)  "
   ]
  },
  {
   "cell_type": "code",
   "execution_count": 13,
   "metadata": {
    "ExecuteTime": {
     "end_time": "2021-08-27T03:38:12.523132Z",
     "start_time": "2021-08-27T03:38:09.271821Z"
    }
   },
   "outputs": [],
   "source": [
    "# save to use in future analysis\n",
    "nmc.save_obj( gam_fits, f\"../data/STAGE_gam_fits_12_grid{n_grid_pts}.pkl\")\n",
    "nmc.save_obj( r_sqr_dict, f\"../data/STAGE_rsqr_fits_12_grid{n_grid_pts}.pkl\")"
   ]
  },
  {
   "cell_type": "markdown",
   "metadata": {},
   "source": [
    "## **Plot trend fits**"
   ]
  },
  {
   "cell_type": "code",
   "execution_count": 22,
   "metadata": {},
   "outputs": [],
   "source": [
    "def plot_trend( gene, trend_df, scat_df, n_grid_pts=n_grid_pts):\n",
    "    if isinstance( gene, int):\n",
    "        gene = trend_df.index.values[gene]\n",
    "    plt.figure( figsize=(10,4))\n",
    "    # plot trend fit      \n",
    "    trend = trend_df.loc[gene]\n",
    "    plt.plot( range( len(trend)), trend, color='orange')\n",
    "    # plot TMM bulk points\n",
    "    scat_x = [stage_order.index(ss) for ss in scat_df.columns.values]\n",
    "    num_stages = len(np.unique(scat_df.columns))\n",
    "    scat_x = np.array( scat_x) * (n_grid_pts/(num_stages-1))\n",
    "    scat = scat_df.loc[gene,:]\n",
    "    plt.scatter( scat_x, scat);    \n",
    "    # plot attributes\n",
    "    ticks = np.linspace(0, n_grid_pts, num_stages)\n",
    "    plt.xticks( ticks=ticks, labels=stage_order, rotation=90);\n",
    "    plt.title( f\"{gene}\")\n",
    "    plt.ylabel('log2(TMM) CPM')\n",
    "    return"
   ]
  },
  {
   "cell_type": "code",
   "execution_count": 23,
   "metadata": {},
   "outputs": [
    {
     "data": {
      "image/png": "[encoded data removed]",
      "text/plain": [
       "<Figure size 720x288 with 1 Axes>"
      ]
     },
     "metadata": {
      "needs_background": "light"
     },
     "output_type": "display_data"
    }
   ],
   "source": [
    "plot_trend( \"RERGL\", gam_fits['L2-3_CUX2'], logTMMs['L2-3_CUX2'])"
   ]
  },
  {
   "cell_type": "code",
   "execution_count": 24,
   "metadata": {},
   "outputs": [
    {
     "data": {
      "image/png": "[encoded data removed]",
      "text/plain": [
       "<Figure size 720x288 with 1 Axes>"
      ]
     },
     "metadata": {
      "needs_background": "light"
     },
     "output_type": "display_data"
    }
   ],
   "source": [
    "plot_trend( \"RERGL\", gam_fits['L4_RORB'], logTMMs['L4_RORB'])"
   ]
  },
  {
   "cell_type": "code",
   "execution_count": 25,
   "metadata": {},
   "outputs": [
    {
     "data": {
      "image/png": "[encoded data removed]",
      "text/plain": [
       "<Figure size 720x288 with 1 Axes>"
      ]
     },
     "metadata": {
      "needs_background": "light"
     },
     "output_type": "display_data"
    }
   ],
   "source": [
    "plot_trend( \"RERGL\", gam_fits['L5-6_THEMIS'], logTMMs['L5-6_THEMIS'])"
   ]
  },
  {
   "cell_type": "code",
   "execution_count": 26,
   "metadata": {},
   "outputs": [
    {
     "data": {
      "image/png": "[encoded data removed]",
      "text/plain": [
       "<Figure size 720x288 with 1 Axes>"
      ]
     },
     "metadata": {
      "needs_background": "light"
     },
     "output_type": "display_data"
    }
   ],
   "source": [
    "plot_trend( \"RERGL\", gam_fits['L5-6_TLE4'], logTMMs['L5-6_TLE4'])"
   ]
  }
 ],
 "metadata": {
  "kernelspec": {
   "display_name": "Python 3",
   "language": "python",
   "name": "python3"
  },
  "language_info": {
   "codemirror_mode": {
    "name": "ipython",
    "version": 3
   },
   "file_extension": ".py",
   "mimetype": "text/x-python",
   "name": "python",
   "nbconvert_exporter": "python",
   "pygments_lexer": "ipython3",
   "version": "3.7.6"
  }
 },
 "nbformat": 4,
 "nbformat_minor": 4
}
