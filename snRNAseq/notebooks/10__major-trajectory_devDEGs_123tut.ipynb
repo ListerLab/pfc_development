{
 "cells": [
  {
   "cell_type": "code",
   "execution_count": 3,
   "metadata": {
    "ExecuteTime": {
     "end_time": "2021-03-18T01:37:51.619213Z",
     "start_time": "2021-03-18T01:37:44.634Z"
    }
   },
   "outputs": [],
   "source": [
    "suppressPackageStartupMessages({\n",
    "    library(\"edgeR\")\n",
    "    library(\"stringr\")\n",
    "    library(\"limma\")\n",
    "    library(\"RColorBrewer\")\n",
    "    library(\"Glimma\")\n",
    "    library(\"dplyr\")\n",
    "    library(\"clusterProfiler\")\n",
    "    library(\"org.Hs.eg.db\")\n",
    "})"
   ]
  },
  {
   "cell_type": "code",
   "execution_count": 4,
   "metadata": {
    "ExecuteTime": {
     "end_time": "2021-03-18T01:37:51.670983Z",
     "start_time": "2021-03-18T01:37:46.877Z"
    }
   },
   "outputs": [
    {
     "data": {
      "text/html": [
       "<style>\n",
       ".list-inline {list-style: none; margin:0; padding: 0}\n",
       ".list-inline>li {display: inline-block}\n",
       ".list-inline>li:not(:last-child)::after {content: \"\\00b7\"; padding: 0 .5ex}\n",
       "</style>\n",
       "<ol class=list-inline><li>'Fetal'</li><li>'Neonatal'</li><li>'Infancy'</li><li>'Childhood'</li><li>'Adolescence'</li><li>'Adult'</li></ol>\n"
      ],
      "text/latex": [
       "\\begin{enumerate*}\n",
       "\\item 'Fetal'\n",
       "\\item 'Neonatal'\n",
       "\\item 'Infancy'\n",
       "\\item 'Childhood'\n",
       "\\item 'Adolescence'\n",
       "\\item 'Adult'\n",
       "\\end{enumerate*}\n"
      ],
      "text/markdown": [
       "1. 'Fetal'\n",
       "2. 'Neonatal'\n",
       "3. 'Infancy'\n",
       "4. 'Childhood'\n",
       "5. 'Adolescence'\n",
       "6. 'Adult'\n",
       "\n",
       "\n"
      ],
      "text/plain": [
       "[1] \"Fetal\"       \"Neonatal\"    \"Infancy\"     \"Childhood\"   \"Adolescence\"\n",
       "[6] \"Adult\"      "
      ]
     },
     "metadata": {},
     "output_type": "display_data"
    }
   ],
   "source": [
    "stage_order = make.names( c('Fetal', 'Neonatal', 'Infancy', 'Childhood', 'Adolescence', 'Adult'))\n",
    "stage_order"
   ]
  },
  {
   "cell_type": "markdown",
   "metadata": {},
   "source": [
    "### Read in all dev-traj files"
   ]
  },
  {
   "cell_type": "code",
   "execution_count": 9,
   "metadata": {
    "ExecuteTime": {
     "end_time": "2021-03-18T01:37:51.700329Z",
     "start_time": "2021-03-18T01:37:47.657Z"
    }
   },
   "outputs": [],
   "source": [
    "dt_file_list = list.files( \"../data/limma-voom\", full.names=TRUE, pattern='major-dev-traj')\n",
    "x <- dt_file_list\n",
    "a <- \"obs-cts\"\n",
    "obs_mk <- sapply(x, function(string) {all(Vectorize(grepl)(pattern = a, x = string))})\n",
    "obs_files <- dt_file_list[obs_mk]\n",
    "blk_files <- dt_file_list[!obs_mk]"
   ]
  },
  {
   "cell_type": "code",
   "execution_count": 13,
   "metadata": {
    "ExecuteTime": {
     "end_time": "2021-03-18T01:37:56.910711Z",
     "start_time": "2021-03-18T01:37:56.735Z"
    }
   },
   "outputs": [
    {
     "data": {
      "text/html": [
       "TRUE"
      ],
      "text/latex": [
       "TRUE"
      ],
      "text/markdown": [
       "TRUE"
      ],
      "text/plain": [
       "[1] TRUE"
      ]
     },
     "metadata": {},
     "output_type": "display_data"
    }
   ],
   "source": [
    "# make sure observation and bulk files match in number\n",
    "length( obs_files)==length( blk_files)"
   ]
  },
  {
   "cell_type": "code",
   "execution_count": 15,
   "metadata": {},
   "outputs": [
    {
     "data": {
      "text/html": [
       "<style>\n",
       ".list-inline {list-style: none; margin:0; padding: 0}\n",
       ".list-inline>li {display: inline-block}\n",
       ".list-inline>li:not(:last-child)::after {content: \"\\00b7\"; padding: 0 .5ex}\n",
       "</style>\n",
       "<ol class=list-inline><li>'../data/limma-voom/major-dev-traj_Astro_obs-cts_min10.csv'</li><li>'../data/limma-voom/major-dev-traj_ID2_obs-cts_min10.csv'</li><li>'../data/limma-voom/major-dev-traj_L2-3_CUX2_obs-cts_min10.csv'</li><li>'../data/limma-voom/major-dev-traj_L4_RORB_obs-cts_min10.csv'</li><li>'../data/limma-voom/major-dev-traj_L5-6_THEMIS_obs-cts_min10.csv'</li><li>'../data/limma-voom/major-dev-traj_L5-6_TLE4_obs-cts_min10.csv'</li><li>'../data/limma-voom/major-dev-traj_LAMP5_NOS1_obs-cts_min10.csv'</li><li>'../data/limma-voom/major-dev-traj_Micro_obs-cts_min10.csv'</li><li>'../data/limma-voom/major-dev-traj_Oligo_obs-cts_min10.csv'</li><li>'../data/limma-voom/major-dev-traj_OPC_obs-cts_min10.csv'</li><li>'../data/limma-voom/major-dev-traj_Poor-Quality_obs-cts_min10.csv'</li><li>'../data/limma-voom/major-dev-traj_PV_obs-cts_min10.csv'</li><li>'../data/limma-voom/major-dev-traj_PV_SCUBE3_obs-cts_min10.csv'</li><li>'../data/limma-voom/major-dev-traj_SST_obs-cts_min10.csv'</li><li>'../data/limma-voom/major-dev-traj_Vas_obs-cts_min10.csv'</li><li>'../data/limma-voom/major-dev-traj_VIP_obs-cts_min10.csv'</li></ol>\n"
      ],
      "text/latex": [
       "\\begin{enumerate*}\n",
       "\\item '../data/limma-voom/major-dev-traj\\_Astro\\_obs-cts\\_min10.csv'\n",
       "\\item '../data/limma-voom/major-dev-traj\\_ID2\\_obs-cts\\_min10.csv'\n",
       "\\item '../data/limma-voom/major-dev-traj\\_L2-3\\_CUX2\\_obs-cts\\_min10.csv'\n",
       "\\item '../data/limma-voom/major-dev-traj\\_L4\\_RORB\\_obs-cts\\_min10.csv'\n",
       "\\item '../data/limma-voom/major-dev-traj\\_L5-6\\_THEMIS\\_obs-cts\\_min10.csv'\n",
       "\\item '../data/limma-voom/major-dev-traj\\_L5-6\\_TLE4\\_obs-cts\\_min10.csv'\n",
       "\\item '../data/limma-voom/major-dev-traj\\_LAMP5\\_NOS1\\_obs-cts\\_min10.csv'\n",
       "\\item '../data/limma-voom/major-dev-traj\\_Micro\\_obs-cts\\_min10.csv'\n",
       "\\item '../data/limma-voom/major-dev-traj\\_Oligo\\_obs-cts\\_min10.csv'\n",
       "\\item '../data/limma-voom/major-dev-traj\\_OPC\\_obs-cts\\_min10.csv'\n",
       "\\item '../data/limma-voom/major-dev-traj\\_Poor-Quality\\_obs-cts\\_min10.csv'\n",
       "\\item '../data/limma-voom/major-dev-traj\\_PV\\_obs-cts\\_min10.csv'\n",
       "\\item '../data/limma-voom/major-dev-traj\\_PV\\_SCUBE3\\_obs-cts\\_min10.csv'\n",
       "\\item '../data/limma-voom/major-dev-traj\\_SST\\_obs-cts\\_min10.csv'\n",
       "\\item '../data/limma-voom/major-dev-traj\\_Vas\\_obs-cts\\_min10.csv'\n",
       "\\item '../data/limma-voom/major-dev-traj\\_VIP\\_obs-cts\\_min10.csv'\n",
       "\\end{enumerate*}\n"
      ],
      "text/markdown": [
       "1. '../data/limma-voom/major-dev-traj_Astro_obs-cts_min10.csv'\n",
       "2. '../data/limma-voom/major-dev-traj_ID2_obs-cts_min10.csv'\n",
       "3. '../data/limma-voom/major-dev-traj_L2-3_CUX2_obs-cts_min10.csv'\n",
       "4. '../data/limma-voom/major-dev-traj_L4_RORB_obs-cts_min10.csv'\n",
       "5. '../data/limma-voom/major-dev-traj_L5-6_THEMIS_obs-cts_min10.csv'\n",
       "6. '../data/limma-voom/major-dev-traj_L5-6_TLE4_obs-cts_min10.csv'\n",
       "7. '../data/limma-voom/major-dev-traj_LAMP5_NOS1_obs-cts_min10.csv'\n",
       "8. '../data/limma-voom/major-dev-traj_Micro_obs-cts_min10.csv'\n",
       "9. '../data/limma-voom/major-dev-traj_Oligo_obs-cts_min10.csv'\n",
       "10. '../data/limma-voom/major-dev-traj_OPC_obs-cts_min10.csv'\n",
       "11. '../data/limma-voom/major-dev-traj_Poor-Quality_obs-cts_min10.csv'\n",
       "12. '../data/limma-voom/major-dev-traj_PV_obs-cts_min10.csv'\n",
       "13. '../data/limma-voom/major-dev-traj_PV_SCUBE3_obs-cts_min10.csv'\n",
       "14. '../data/limma-voom/major-dev-traj_SST_obs-cts_min10.csv'\n",
       "15. '../data/limma-voom/major-dev-traj_Vas_obs-cts_min10.csv'\n",
       "16. '../data/limma-voom/major-dev-traj_VIP_obs-cts_min10.csv'\n",
       "\n",
       "\n"
      ],
      "text/plain": [
       " [1] \"../data/limma-voom/major-dev-traj_Astro_obs-cts_min10.csv\"       \n",
       " [2] \"../data/limma-voom/major-dev-traj_ID2_obs-cts_min10.csv\"         \n",
       " [3] \"../data/limma-voom/major-dev-traj_L2-3_CUX2_obs-cts_min10.csv\"   \n",
       " [4] \"../data/limma-voom/major-dev-traj_L4_RORB_obs-cts_min10.csv\"     \n",
       " [5] \"../data/limma-voom/major-dev-traj_L5-6_THEMIS_obs-cts_min10.csv\" \n",
       " [6] \"../data/limma-voom/major-dev-traj_L5-6_TLE4_obs-cts_min10.csv\"   \n",
       " [7] \"../data/limma-voom/major-dev-traj_LAMP5_NOS1_obs-cts_min10.csv\"  \n",
       " [8] \"../data/limma-voom/major-dev-traj_Micro_obs-cts_min10.csv\"       \n",
       " [9] \"../data/limma-voom/major-dev-traj_Oligo_obs-cts_min10.csv\"       \n",
       "[10] \"../data/limma-voom/major-dev-traj_OPC_obs-cts_min10.csv\"         \n",
       "[11] \"../data/limma-voom/major-dev-traj_Poor-Quality_obs-cts_min10.csv\"\n",
       "[12] \"../data/limma-voom/major-dev-traj_PV_obs-cts_min10.csv\"          \n",
       "[13] \"../data/limma-voom/major-dev-traj_PV_SCUBE3_obs-cts_min10.csv\"   \n",
       "[14] \"../data/limma-voom/major-dev-traj_SST_obs-cts_min10.csv\"         \n",
       "[15] \"../data/limma-voom/major-dev-traj_Vas_obs-cts_min10.csv\"         \n",
       "[16] \"../data/limma-voom/major-dev-traj_VIP_obs-cts_min10.csv\"         "
      ]
     },
     "metadata": {},
     "output_type": "display_data"
    }
   ],
   "source": [
    "obs_files"
   ]
  },
  {
   "cell_type": "code",
   "execution_count": 28,
   "metadata": {
    "ExecuteTime": {
     "end_time": "2021-03-18T01:46:31.857421Z",
     "start_time": "2021-03-18T01:38:15.470Z"
    }
   },
   "outputs": [
    {
     "name": "stdout",
     "output_type": "stream",
     "text": [
      "[1] \"../data/limma-voom/glimma_dev-traj_Astro\"\n",
      "[1] \"../data/limma-voom/glimma_dev-traj_ID2\"\n",
      "[1] \"../data/limma-voom/glimma_dev-traj_L2-3_CUX2\"\n",
      "[1] \"../data/limma-voom/glimma_dev-traj_L4_RORB\"\n",
      "[1] \"../data/limma-voom/glimma_dev-traj_L5-6_THEMIS\"\n",
      "[1] \"../data/limma-voom/glimma_dev-traj_L5-6_TLE4\"\n",
      "[1] \"../data/limma-voom/glimma_dev-traj_LAMP5_NOS1\"\n",
      "[1] \"../data/limma-voom/glimma_dev-traj_Micro\"\n",
      "[1] \"../data/limma-voom/glimma_dev-traj_Oligo\"\n",
      "[1] \"../data/limma-voom/glimma_dev-traj_OPC\"\n",
      "[1] \"../data/limma-voom/glimma_dev-traj_Poor-Quality\"\n",
      "Coefficients not estimable: Fetal Neonatal \n"
     ]
    },
    {
     "name": "stderr",
     "output_type": "stream",
     "text": [
      "Warning message:\n",
      "“Partial NA coefficients for 2752 probe(s)”\n"
     ]
    },
    {
     "name": "stdout",
     "output_type": "stream",
     "text": [
      "Coefficients not estimable: Fetal Neonatal \n"
     ]
    },
    {
     "name": "stderr",
     "output_type": "stream",
     "text": [
      "Warning message:\n",
      "“Partial NA coefficients for 2752 probe(s)”\n"
     ]
    },
    {
     "name": "stdout",
     "output_type": "stream",
     "text": [
      "[1] \"../data/limma-voom/glimma_dev-traj_PV\"\n",
      "[1] \"../data/limma-voom/glimma_dev-traj_PV_SCUBE3\"\n",
      "[1] \"../data/limma-voom/glimma_dev-traj_SST\"\n",
      "[1] \"../data/limma-voom/glimma_dev-traj_Vas\"\n",
      "[1] \"../data/limma-voom/glimma_dev-traj_VIP\"\n"
     ]
    }
   ],
   "source": [
    "for (itr in 1:length(obs_files)){\n",
    "    # get files for each traj-dev in list of files\n",
    "    obs_fl_itr <- obs_files[itr]\n",
    "    blk_fl_itr <- blk_files[itr]\n",
    "    counts <- read.delim( blk_fl_itr, row.names=1, sep=',')\n",
    "    obs    <- read.delim( obs_fl_itr, row.names=1, sep=',')\n",
    "    #####################################\n",
    "    # get traj-dev name for output naming\n",
    "    splt_dt_nm <- sapply( obs_fl_itr, function(x) \n",
    "        {strsplit( x, \"_obs-cts_min10\", fixed=TRUE)}[[1]])\n",
    "    # get traj-dev name\n",
    "    splt_dt_nm2 <- sapply( splt_dt_nm, function(x) \n",
    "        {strsplit( x, \"major-dev-traj_\", fixed=TRUE)}[[1]][c(2)])\n",
    "    dt_nm <- paste( '../data/limma-voom/glimma_dev-traj_', splt_dt_nm2[1],  sep=\"\")\n",
    "    print( dt_nm)\n",
    "    #####################################\n",
    "    # create edgeR DGE object\n",
    "    x <- DGEList( counts)\n",
    "    rownames( obs) <- make.names( rownames( obs))      \n",
    "    group <- as.factor( obs$stage_id)\n",
    "    x$samples$group <- group\n",
    "    # Rename all levels, by name\n",
    "    levels(group) <- list('Fetal'='Fetal','Neonatal'='Neonatal','Infancy'='Infancy','Childhood'='Childhood',\n",
    "                           'Adolescence'='Adolescence','Adult'='Adult')\n",
    "\n",
    "    # add all wanted features to x$samples\n",
    "    feats_oi <- c( 'chem', 'Sex', 'Library.Prep.Lot')\n",
    "    for (feat_itr in feats_oi){\n",
    "        fact <- as.factor( obs[feat_itr])\n",
    "        x$samples[feat_itr] <- obs[feat_itr]\n",
    "    }\n",
    "    x$samples[,feats_oi] <- mutate_all( x$samples[,feats_oi], as.character)     \n",
    "    # control for lot 2 only, all others show no effects\n",
    "    prep_lot <- x$samples$Library.Prep.Lot\n",
    "    x$samples$Library.Prep.Lot[prep_lot!=2] <- 999\n",
    "    keep.exprs <- filterByExpr( x, group=group)\n",
    "    x <- x[keep.exprs,, keep.lib.sizes=FALSE]\n",
    "    # split cellranger gene ENSEMBL and SYMBOLS \n",
    "    comb_geneids <- rownames(x)\n",
    "    split_nms <- sapply( comb_geneids, function(x) {strsplit( x, \"--\", fixed=TRUE)[[1]]}[c(1,2)])\n",
    "    # re-format and label name types\n",
    "    geneid <- t(split_nms)\n",
    "    colnames(geneid) <- c(\"ENSEMBL\",\"SYMBOL\")\n",
    "    row.names(geneid) <- 1:nrow(geneid)\n",
    "    rownames(x) <- geneid[,2]\n",
    "    x$genes <- geneid[,1]\n",
    "    # TMM normalize\n",
    "    x <- calcNormFactors(x, method =\"TMM\") # \"TMM\"\n",
    "    lcpm <- cpm(x, log=TRUE)\n",
    "    # create design matrix\n",
    "    chem <- as.factor( x$samples$chem)\n",
    "    sex  <- as.factor( x$samples$Sex)\n",
    "    lot  <- as.factor( x$samples$Library.Prep.Lot)\n",
    "    nlvls = c( nlevels( chem), nlevels( sex), nlevels( lot))\n",
    "    factors <- c( \"+ chem\",\"+ sex\",\"+ lot\")\n",
    "    des_form = as.formula( paste(\"~0 + group\", paste( factors[nlvls>1], collapse=\"\")))\n",
    "    design <- model.matrix( des_form)\n",
    "               \n",
    "    colnames(design) <- gsub(\"group\", \"\", colnames(design))\n",
    "    colnames(design) <- make.names( colnames( design))\n",
    "    ### need to be sure to only make comparison of stages present in data\n",
    "    # pull stage_ids in design matrix\n",
    "    contr_nms <- colnames( design)\n",
    "    # pull intersect with stage_order\n",
    "    inter_nms <- intersect( make.names( obs$stage_id), contr_nms)\n",
    "    # create contrast vector for comparisons across stages\n",
    "    num_nms <- length( inter_nms)\n",
    "    # empty vector to hold contrast comparisons\n",
    "    comp_vec <- c()\n",
    "    # append comparisons\n",
    "    for (itr in 1:num_nms){\n",
    "        itr_nms2 <- inter_nms[-c(1:itr)]\n",
    "        itr_nms1 <- rep( c(inter_nms[itr]), times=length(itr_nms2))\n",
    "        comp_vec <- append( comp_vec, paste( itr_nms1, itr_nms2, sep='-'))\n",
    "    }\n",
    "    contr.matrix <- makeContrasts( contrasts=comp_vec, levels=colnames( design))\n",
    "    v <- voom(x, design, plot=FALSE)\n",
    "    vfit <- lmFit(v, design)\n",
    "    vfit <- contrasts.fit(vfit, contrasts=contr.matrix)\n",
    "    efit <- eBayes(vfit)\n",
    "    tfit <- treat( vfit, lfc=1)\n",
    "    dt <- decideTests(efit)\n",
    "    \n",
    "    iii <- 1\n",
    "    for (itr in comp_vec){\n",
    "        glMDPlot(efit, coef=iii, status=dt, main=colnames(efit)[iii],\n",
    "             side.main=\"SYMBOL\", counts=lcpm, groups=group, launch=FALSE, folder=dt_nm, html=itr) # html=\"MD-Plot\"\n",
    "        iii <- iii + 1\n",
    "    }\n",
    "    logTMM_fil_nm <- paste( dt_nm, 'logTMM_cts.csv', sep=\"/\")\n",
    "    write.csv( lcpm, logTMM_fil_nm)\n",
    "    results_fl_nm <- paste( dt_nm, 'results_file.txt', sep=\"/\")\n",
    "    write.fit( efit, dt, file=results_fl_nm)\n",
    "    DEG_fl_nm <- paste( dt_nm, 'DEGlist.RDS', sep=\"/\")\n",
    "    saveRDS( x, DEG_fl_nm)\n",
    "}"
   ]
  }
 ],
 "metadata": {
  "kernelspec": {
   "display_name": "R",
   "language": "R",
   "name": "ir"
  },
  "language_info": {
   "codemirror_mode": "r",
   "file_extension": ".r",
   "mimetype": "text/x-r-source",
   "name": "R",
   "pygments_lexer": "r",
   "version": "4.0.2"
  }
 },
 "nbformat": 4,
 "nbformat_minor": 4
}
