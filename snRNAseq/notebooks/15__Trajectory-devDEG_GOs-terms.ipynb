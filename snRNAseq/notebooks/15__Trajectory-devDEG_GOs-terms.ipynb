{
 "cells": [
  {
   "cell_type": "code",
   "execution_count": 1,
   "metadata": {
    "ExecuteTime": {
     "end_time": "2022-08-15T06:11:07.002271Z",
     "start_time": "2022-08-15T06:11:02.937102Z"
    }
   },
   "outputs": [
    {
     "name": "stdout",
     "output_type": "stream",
     "text": [
      "scanpy==1.6.0 anndata==0.7.4 umap==0.4.3 numpy==1.18.2 scipy==1.4.1 pandas==1.0.3 scikit-learn==0.22.2.post1 statsmodels==0.10.1 python-igraph==0.8.0 louvain==0.6.1 leidenalg==0.8.0\n"
     ]
    }
   ],
   "source": [
    "import scanpy as sc\n",
    "import numpy as np\n",
    "import pandas as pd\n",
    "import matplotlib.pyplot as plt\n",
    "%matplotlib inline\n",
    "import matplotlib\n",
    "import math\n",
    "import seaborn as sns\n",
    "import os\n",
    "\n",
    "# %config IPCompleter.greedy=True\n",
    "%load_ext autoreload\n",
    "%autoreload 2\n",
    "\n",
    "sc.settings.verbosity = 0\n",
    "sc.logging.print_header()\n",
    "sns.set_context(\"paper\")"
   ]
  },
  {
   "cell_type": "code",
   "execution_count": 2,
   "metadata": {
    "ExecuteTime": {
     "end_time": "2022-08-15T06:11:07.039105Z",
     "start_time": "2022-08-15T06:11:07.004595Z"
    }
   },
   "outputs": [],
   "source": [
    "# import local module containing misc code, helps keep notebooks clean from commonly used functions\n",
    "import sys\n",
    "sys.path.insert(0, '/scratchfs/cherring/brain_maturation/analysis/submittal_final/')\n",
    "import new_misc_code as nmc "
   ]
  },
  {
   "cell_type": "markdown",
   "metadata": {},
   "source": [
    "## **Pull all significant devDEGs from logTMMs data pickel**"
   ]
  },
  {
   "cell_type": "code",
   "execution_count": 3,
   "metadata": {
    "ExecuteTime": {
     "end_time": "2022-08-15T06:11:07.105818Z",
     "start_time": "2022-08-15T06:11:07.042937Z"
    }
   },
   "outputs": [],
   "source": [
    "# load log2 TMM pseudo-bulked data from limma-voom\n",
    "# logTMMs.pkl was saved in 11__dev-DEGs_age-trend-fits_rate-of-change.ipynb\n",
    "logTMMs = nmc.load_obj( \"../data/logTMMs.pkl\")"
   ]
  },
  {
   "cell_type": "code",
   "execution_count": 4,
   "metadata": {
    "ExecuteTime": {
     "end_time": "2022-08-15T06:11:07.142471Z",
     "start_time": "2022-08-15T06:11:07.107320Z"
    }
   },
   "outputs": [],
   "source": [
    "# index genes in logTMMs dataframes are devDEGs\n",
    "sig_genes = {}\n",
    "for traj_itr, df_itr in logTMMs.items():\n",
    "    sig_genes[traj_itr] = df_itr.index.values"
   ]
  },
  {
   "cell_type": "code",
   "execution_count": 5,
   "metadata": {
    "ExecuteTime": {
     "end_time": "2022-08-15T06:11:07.177880Z",
     "start_time": "2022-08-15T06:11:07.143935Z"
    }
   },
   "outputs": [
    {
     "name": "stdout",
     "output_type": "stream",
     "text": [
      "Astro (3497,)\n",
      "ID2 (3755,)\n",
      "L2-3_CUX2 (8842,)\n",
      "L4_RORB (8885,)\n",
      "L5-6_THEMIS (6924,)\n",
      "L5-6_TLE4 (7239,)\n",
      "LAMP5_NOS1 (2514,)\n",
      "Micro (58,)\n",
      "Oligo (2540,)\n",
      "OPC (1321,)\n",
      "PV (5558,)\n",
      "PV_SCUBE3 (2745,)\n",
      "SST (4377,)\n",
      "VIP (4624,)\n"
     ]
    }
   ],
   "source": [
    "for iii, jjj in sig_genes.items():\n",
    "    print( iii, jjj.shape)"
   ]
  },
  {
   "cell_type": "markdown",
   "metadata": {},
   "source": [
    "## **Query GO terms for each set of devDEGs**"
   ]
  },
  {
   "cell_type": "code",
   "execution_count": 6,
   "metadata": {
    "ExecuteTime": {
     "end_time": "2022-08-15T06:11:14.673660Z",
     "start_time": "2022-08-15T06:11:07.179143Z"
    }
   },
   "outputs": [],
   "source": [
    "# read in adata, to use observational data for each batch\n",
    "adata_fl_nm = \"../data/post-gaba-wt-dev-traj.h5ad\"\n",
    "adata = sc.read( adata_fl_nm)"
   ]
  },
  {
   "cell_type": "markdown",
   "metadata": {},
   "source": [
    "### Get background genes (genes with >5 counts) for GO term query"
   ]
  },
  {
   "cell_type": "code",
   "execution_count": 7,
   "metadata": {
    "ExecuteTime": {
     "end_time": "2022-08-15T06:11:15.134560Z",
     "start_time": "2022-08-15T06:11:14.676728Z"
    }
   },
   "outputs": [
    {
     "name": "stdout",
     "output_type": "stream",
     "text": [
      "True\n"
     ]
    }
   ],
   "source": [
    "# make sure all genes have at least 5 counts, should have been already done\n",
    "print( sum(adata.X.sum(0).A1>5)==adata.shape[1])\n",
    "back_ground = adata.var_names.values.astype(str).tolist()"
   ]
  },
  {
   "cell_type": "markdown",
   "metadata": {},
   "source": [
    "### Scanpy .var_names_make_unique() formats gene duplicate names in way that is not recognized by GProfiler "
   ]
  },
  {
   "cell_type": "code",
   "execution_count": 8,
   "metadata": {
    "ExecuteTime": {
     "end_time": "2022-08-15T06:11:17.371819Z",
     "start_time": "2022-08-15T06:11:15.136590Z"
    }
   },
   "outputs": [
    {
     "name": "stderr",
     "output_type": "stream",
     "text": [
      "Variable names are not unique. To make them unique, call `.var_names_make_unique`.\n",
      "Variable names are not unique. To make them unique, call `.var_names_make_unique`.\n"
     ]
    }
   ],
   "source": [
    "# check how many gene names are changed by scanpy var_names_make_unique()\n",
    "# any of the filtered_feature_bc_matrix.h5 from our study can be used here\n",
    "# this can also be skipped without much change to the GO analysis\n",
    "gene_file = \"/dd_userdata/usrdat03/userdata/cherring/data/cellranger_outputs/brain_maturation_RNA/RL1777_2d_v3/outs/filtered_feature_bc_matrix.h5\"\n",
    "test_adata = sc.read_10x_h5( gene_file)\n",
    "raw_names = test_adata.var_names.values\n",
    "test_adata.var_names_make_unique()\n",
    "unq_names = test_adata.var_names.values.tolist()\n",
    "current_names = adata.var_names.values.astype(str).tolist()"
   ]
  },
  {
   "cell_type": "code",
   "execution_count": 9,
   "metadata": {
    "ExecuteTime": {
     "end_time": "2022-08-15T06:11:17.415256Z",
     "start_time": "2022-08-15T06:11:17.373647Z"
    }
   },
   "outputs": [],
   "source": [
    "test_adata.var_names_make_unique()\n",
    "unq_names = test_adata.var_names.values.tolist()"
   ]
  },
  {
   "cell_type": "code",
   "execution_count": 10,
   "metadata": {
    "ExecuteTime": {
     "end_time": "2022-08-15T06:11:17.450394Z",
     "start_time": "2022-08-15T06:11:17.416869Z"
    }
   },
   "outputs": [],
   "source": [
    "# function to change scanpy corrected gene names back to generic name, this does not change the result very much\n",
    "def get_preunique_names( current_names, raw_names=raw_names, unq_names=unq_names):\n",
    "    raw_current_names = np.zeros_like( current_names)\n",
    "    for itr, gene_itr in enumerate( current_names):\n",
    "        if gene_itr not in raw_names:\n",
    "            raw_current_names[itr] = raw_names[unq_names.index(gene_itr)]\n",
    "        else:\n",
    "            raw_current_names[itr] = gene_itr\n",
    "    print( f\"{len( current_names) - sum( nmc.member_test( raw_current_names, current_names))} gene name changes\")\n",
    "    return( raw_current_names)"
   ]
  },
  {
   "cell_type": "code",
   "execution_count": 11,
   "metadata": {
    "ExecuteTime": {
     "end_time": "2022-08-15T06:11:29.790284Z",
     "start_time": "2022-08-15T06:11:17.451875Z"
    }
   },
   "outputs": [
    {
     "name": "stdout",
     "output_type": "stream",
     "text": [
      "12 name changes\n"
     ]
    }
   ],
   "source": [
    "back_ground_raw = get_preunique_names( current_names)"
   ]
  },
  {
   "cell_type": "code",
   "execution_count": 12,
   "metadata": {
    "ExecuteTime": {
     "end_time": "2022-08-15T06:11:29.986627Z",
     "start_time": "2022-08-15T06:11:29.792325Z"
    }
   },
   "outputs": [],
   "source": [
    "from gprofiler import GProfiler\n",
    "def query_genes( genes, bk_grd, p_thresh=0.05):\n",
    "    # Gprofiler does not like Y_RNA, times out\n",
    "    if 'Y_RNA' in genes:\n",
    "        genes.remove('Y_RNA')\n",
    "    # base url sets version used in our study\n",
    "    gp = GProfiler( return_dataframe=True, base_url=\"https://biit.cs.ut.ee/gprofiler_archive3/e102_eg49_p15/\")\n",
    "    query_df = gp.profile( organism='hsapiens', query=genes, user_threshold=p_thresh, background=bk_grd)\n",
    "    ####################################################\n",
    "    query_df = query_df[np.in1d( query_df['source'].values, ['GO:MF','GO:BP'])]\n",
    "    ####################################################\n",
    "    # if you'd like less general GOs\n",
    "#     parent_mk = np.array( [len( ii)>=0 for ii in query_df['parents'].values])\n",
    "    return( query_df) #.loc[parent_mk])"
   ]
  },
  {
   "cell_type": "code",
   "execution_count": 13,
   "metadata": {
    "ExecuteTime": {
     "end_time": "2022-08-15T06:11:30.030623Z",
     "start_time": "2022-08-15T06:11:29.988423Z"
    }
   },
   "outputs": [
    {
     "data": {
      "text/plain": [
       "dict_keys(['Astro', 'ID2', 'L2-3_CUX2', 'L4_RORB', 'L5-6_THEMIS', 'L5-6_TLE4', 'LAMP5_NOS1', 'Micro', 'Oligo', 'OPC', 'PV', 'PV_SCUBE3', 'SST', 'VIP'])"
      ]
     },
     "execution_count": 13,
     "metadata": {},
     "output_type": "execute_result"
    }
   ],
   "source": [
    "sig_genes.keys()"
   ]
  },
  {
   "cell_type": "code",
   "execution_count": 14,
   "metadata": {
    "ExecuteTime": {
     "end_time": "2022-08-15T06:22:08.341632Z",
     "start_time": "2022-08-15T06:11:30.032169Z"
    }
   },
   "outputs": [
    {
     "name": "stdout",
     "output_type": "stream",
     "text": [
      "1 name changes\n",
      "3 name changes\n",
      "7 name changes\n",
      "6 name changes\n",
      "7 name changes\n",
      "4 name changes\n",
      "2 name changes\n",
      "0 name changes\n",
      "0 name changes\n",
      "0 name changes\n",
      "2 name changes\n",
      "2 name changes\n",
      "4 name changes\n",
      "4 name changes\n"
     ]
    }
   ],
   "source": [
    "all_q_df = {}\n",
    "for k_itr in sig_genes.keys():\n",
    "    gene_itr = sig_genes[k_itr]\n",
    "    raw_gene_itr = get_preunique_names( gene_itr)\n",
    "    q_df = query_genes( raw_gene_itr.tolist(), bk_grd=back_ground_raw.tolist(), p_thresh=0.05)\n",
    "    all_q_df[k_itr] = q_df"
   ]
  },
  {
   "cell_type": "code",
   "execution_count": 16,
   "metadata": {
    "ExecuteTime": {
     "end_time": "2022-08-15T06:24:21.268049Z",
     "start_time": "2022-08-15T06:24:21.004893Z"
    }
   },
   "outputs": [],
   "source": [
    "nmc.save_obj( all_q_df, \"../data/devDEG_Gene-Ontology-hits.pkl\")"
   ]
  }
 ],
 "metadata": {
  "kernelspec": {
   "display_name": "Python 3",
   "language": "python",
   "name": "python3"
  },
  "language_info": {
   "codemirror_mode": {
    "name": "ipython",
    "version": 3
   },
   "file_extension": ".py",
   "mimetype": "text/x-python",
   "name": "python",
   "nbconvert_exporter": "python",
   "pygments_lexer": "ipython3",
   "version": "3.7.6"
  }
 },
 "nbformat": 4,
 "nbformat_minor": 4
}
