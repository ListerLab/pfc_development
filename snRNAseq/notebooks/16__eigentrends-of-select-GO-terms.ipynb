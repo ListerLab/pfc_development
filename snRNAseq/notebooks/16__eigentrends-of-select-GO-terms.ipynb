{
 "cells": [
  {
   "cell_type": "markdown",
   "metadata": {},
   "source": [
    "## **To recreate study results please load package versions found in main_requirements.txt**"
   ]
  },
  {
   "cell_type": "code",
   "execution_count": 1,
   "metadata": {
    "ExecuteTime": {
     "end_time": "2022-08-15T07:55:04.257204Z",
     "start_time": "2022-08-15T07:54:58.397975Z"
    }
   },
   "outputs": [
    {
     "name": "stdout",
     "output_type": "stream",
     "text": [
      "scanpy==1.6.0 anndata==0.7.4 umap==0.4.3 numpy==1.18.2 scipy==1.4.1 pandas==1.0.3 scikit-learn==0.22.2.post1 statsmodels==0.10.1 python-igraph==0.8.0 louvain==0.6.1 leidenalg==0.8.0\n"
     ]
    }
   ],
   "source": [
    "import scanpy as sc\n",
    "import numpy as np\n",
    "import pandas as pd\n",
    "import matplotlib.pyplot as plt\n",
    "%matplotlib inline\n",
    "import matplotlib\n",
    "import math\n",
    "import seaborn as sns\n",
    "import os\n",
    "\n",
    "# %config IPCompleter.greedy=True\n",
    "%load_ext autoreload\n",
    "%autoreload 2\n",
    "\n",
    "sc.settings.verbosity = 0\n",
    "sc.logging.print_header()\n",
    "sns.set_context(\"paper\")"
   ]
  },
  {
   "cell_type": "code",
   "execution_count": 2,
   "metadata": {
    "ExecuteTime": {
     "end_time": "2022-08-15T07:55:04.291060Z",
     "start_time": "2022-08-15T07:55:04.260279Z"
    }
   },
   "outputs": [],
   "source": [
    "import warnings\n",
    "warnings.simplefilter( action=\"ignore\", category=FutureWarning)"
   ]
  },
  {
   "cell_type": "code",
   "execution_count": 3,
   "metadata": {
    "ExecuteTime": {
     "end_time": "2022-08-15T07:55:04.324073Z",
     "start_time": "2022-08-15T07:55:04.293466Z"
    }
   },
   "outputs": [],
   "source": [
    "# import local module containing misc code, helps keep notebooks clean from commonly used functions\n",
    "import new_misc_code as nmc"
   ]
  },
  {
   "cell_type": "markdown",
   "metadata": {},
   "source": [
    "## **Load log2 CPM pseudo-bulk and GAM fit data pickles**"
   ]
  },
  {
   "cell_type": "code",
   "execution_count": 4,
   "metadata": {
    "ExecuteTime": {
     "end_time": "2022-08-15T07:55:04.476514Z",
     "start_time": "2022-08-15T07:55:04.328339Z"
    }
   },
   "outputs": [],
   "source": [
    "# load log2 TMM pseudo-bulked data from limma-voom\n",
    "# logTMMs.pkl was saved in 11__dev-DEGs_age-trend-fits_rate-of-change.ipynb\n",
    "logTMMs = nmc.load_obj( \"../data/logTMMs.pkl\")\n",
    "# GAM fits from 12__major-trajectory_dev-DEGs_stage-trend-fits.ipynb\n",
    "good_fits = nmc.load_obj( f\"../data/STAGE_gam_fits_12_grid100.pkl\")"
   ]
  },
  {
   "cell_type": "code",
   "execution_count": 5,
   "metadata": {
    "ExecuteTime": {
     "end_time": "2022-08-15T07:55:11.468199Z",
     "start_time": "2022-08-15T07:55:04.481354Z"
    }
   },
   "outputs": [],
   "source": [
    "# read in anndata for obs\n",
    "adata = sc.read_h5ad( \"../data/post-gaba-wt-dev-traj.h5ad\")\n",
    "obs_df = adata.obs.copy()\n",
    "# clean up dataframe by dropping all duplicates of batch entries\n",
    "obs_df.drop_duplicates( subset='batch', keep=\"first\", inplace=True)"
   ]
  },
  {
   "cell_type": "markdown",
   "metadata": {},
   "source": [
    "## Read in GO terms from maturation DEGs for each major cluster"
   ]
  },
  {
   "cell_type": "code",
   "execution_count": 6,
   "metadata": {
    "ExecuteTime": {
     "end_time": "2022-08-15T07:55:11.762854Z",
     "start_time": "2022-08-15T07:55:11.471110Z"
    }
   },
   "outputs": [
    {
     "data": {
      "text/plain": [
       "dict_keys(['Astro', 'ID2', 'L2-3_CUX2', 'L4_RORB', 'L5-6_THEMIS', 'L5-6_TLE4', 'LAMP5_NOS1', 'Micro', 'Oligo', 'OPC', 'PV', 'PV_SCUBE3', 'SST', 'VIP'])"
      ]
     },
     "execution_count": 6,
     "metadata": {},
     "output_type": "execute_result"
    }
   ],
   "source": [
    "mat_degs = nmc.load_obj( \"../data/devDEG_Gene-Ontology-hits.pkl\")\n",
    "mat_degs.keys()"
   ]
  },
  {
   "cell_type": "code",
   "execution_count": 7,
   "metadata": {
    "ExecuteTime": {
     "end_time": "2022-08-15T07:55:11.801963Z",
     "start_time": "2022-08-15T07:55:11.764804Z"
    }
   },
   "outputs": [
    {
     "name": "stdout",
     "output_type": "stream",
     "text": [
      "Astro\n",
      "ID2\n",
      "L2-3_CUX2\n",
      "L4_RORB\n",
      "L5-6_THEMIS\n",
      "L5-6_TLE4\n",
      "LAMP5_NOS1\n",
      "Oligo\n",
      "OPC\n",
      "PV\n",
      "PV_SCUBE3\n",
      "SST\n",
      "VIP\n"
     ]
    }
   ],
   "source": [
    "counts = {}\n",
    "for k_itr, v_itr in mat_degs.items():\n",
    "    if( k_itr=='Micro'):\n",
    "        continue\n",
    "    print( k_itr)\n",
    "    words = v_itr['name'].values\n",
    "    for word in words:\n",
    "        counts[word] = counts.get(word, 0) + 1\n",
    "        \n",
    "pairs = sorted(counts.items(), key=lambda kv: kv[1], reverse=True)\n",
    "sorted_terms = []\n",
    "for itr, (word, count) in enumerate( pairs):\n",
    "    if( count>=0):\n",
    "        sorted_terms.append( f\"{word}__{count}\")\n",
    "#     print(word, count)"
   ]
  },
  {
   "cell_type": "code",
   "execution_count": 8,
   "metadata": {
    "ExecuteTime": {
     "end_time": "2022-08-15T07:55:11.826348Z",
     "start_time": "2022-08-15T07:55:11.803611Z"
    }
   },
   "outputs": [],
   "source": [
    "def search_term( term, sorted_terms=sorted_terms):\n",
    "    return( [ii for ii in sorted_terms if term in ii])"
   ]
  },
  {
   "cell_type": "code",
   "execution_count": 9,
   "metadata": {
    "ExecuteTime": {
     "end_time": "2022-08-15T07:55:11.854979Z",
     "start_time": "2022-08-15T07:55:11.828176Z"
    },
    "scrolled": false
   },
   "outputs": [],
   "source": [
    "# one_offs_dict['L4_RORB']"
   ]
  },
  {
   "cell_type": "markdown",
   "metadata": {},
   "source": [
    "### Plot GO terms"
   ]
  },
  {
   "cell_type": "code",
   "execution_count": 10,
   "metadata": {
    "ExecuteTime": {
     "end_time": "2022-08-15T07:55:11.919921Z",
     "start_time": "2022-08-15T07:55:11.858804Z"
    }
   },
   "outputs": [],
   "source": [
    "go_file_bp = \"/scratchfs/cherring/brain_maturation/analysis/first_final_notebooks/maturation_dynamics/new_single_GAM-fit/data/GO_genes_ref_data/hsapiens.GO:BP.name.gmt\"\n",
    "go_file_mf = \"/scratchfs/cherring/brain_maturation/analysis/first_final_notebooks/maturation_dynamics/new_single_GAM-fit/data/GO_genes_ref_data/hsapiens.GO:MF.name.gmt\""
   ]
  },
  {
   "cell_type": "code",
   "execution_count": 11,
   "metadata": {
    "ExecuteTime": {
     "end_time": "2022-08-15T07:55:12.461369Z",
     "start_time": "2022-08-15T07:55:11.922092Z"
    }
   },
   "outputs": [],
   "source": [
    "import csv\n",
    "GO_terms = {}\n",
    "with open( go_file_bp, 'r') as f:\n",
    "    reader = csv.reader( f, delimiter='\\t')\n",
    "    for row in reader:\n",
    "#         print( row[2:])\n",
    "        GO_terms[row[1]] = np.array( row[2:])\n",
    "with open( go_file_mf, 'r') as f:\n",
    "    reader = csv.reader( f, delimiter='\\t')\n",
    "    for row in reader:\n",
    "#         print( row[2:])\n",
    "        GO_terms[row[1]] = np.array( row[2:])"
   ]
  },
  {
   "cell_type": "markdown",
   "metadata": {},
   "source": [
    "## Plot some GO terms - mean expression over stages"
   ]
  },
  {
   "cell_type": "code",
   "execution_count": 12,
   "metadata": {
    "ExecuteTime": {
     "end_time": "2022-08-15T07:55:12.492839Z",
     "start_time": "2022-08-15T07:55:12.465694Z"
    }
   },
   "outputs": [],
   "source": [
    "color_dict = adata.uns['major_clust_colors_dict']"
   ]
  },
  {
   "cell_type": "code",
   "execution_count": 13,
   "metadata": {
    "ExecuteTime": {
     "end_time": "2022-08-15T07:55:12.517177Z",
     "start_time": "2022-08-15T07:55:12.494276Z"
    }
   },
   "outputs": [],
   "source": [
    "mj_plot_order = adata.uns['major_clust_plot_order'].tolist()"
   ]
  },
  {
   "cell_type": "markdown",
   "metadata": {},
   "source": [
    "### Based on prior knowledge lets clean up the data a bit"
   ]
  },
  {
   "cell_type": "markdown",
   "metadata": {},
   "source": [
    "PN neurons are largely post mitotic and have migrated to cortical layers by ga22, so removing any PN with a DEG for migration. The positive hit for migration in PNs could be due to the large overlap of genes in migration and dendrite/axon growth. "
   ]
  },
  {
   "cell_type": "code",
   "execution_count": 14,
   "metadata": {
    "ExecuteTime": {
     "end_time": "2022-08-15T07:55:12.549090Z",
     "start_time": "2022-08-15T07:55:12.518591Z"
    }
   },
   "outputs": [
    {
     "name": "stdout",
     "output_type": "stream",
     "text": [
      "L2-3_CUX2\n",
      "L4_RORB\n",
      "L5-6_THEMIS\n",
      "L5-6_TLE4\n"
     ]
    }
   ],
   "source": [
    "pns = ['L2-3_CUX2', 'L4_RORB', 'L5-6_THEMIS', 'L5-6_TLE4']\n",
    "for ii in pns:\n",
    "    if( np.any( mat_degs[ii]['name']=='cell migration')):\n",
    "        print(ii)\n",
    "        mat_degs[ii] = mat_degs[ii].loc[~(mat_degs[ii]['name']=='cell migration').values,:]"
   ]
  },
  {
   "cell_type": "code",
   "execution_count": 15,
   "metadata": {
    "ExecuteTime": {
     "end_time": "2022-08-15T07:55:12.580882Z",
     "start_time": "2022-08-15T07:55:12.550924Z"
    }
   },
   "outputs": [
    {
     "name": "stdout",
     "output_type": "stream",
     "text": [
      "L2-3_CUX2\n",
      "L4_RORB\n",
      "L5-6_THEMIS\n",
      "L5-6_TLE4\n"
     ]
    }
   ],
   "source": [
    "for ii in pns:\n",
    "    if( np.any( mat_degs[ii]['name']=='neuron migration')):\n",
    "        print(ii)\n",
    "        mat_degs[ii] = mat_degs[ii].loc[~(mat_degs[ii]['name']=='neuron migration').values,:]"
   ]
  },
  {
   "cell_type": "markdown",
   "metadata": {},
   "source": [
    "## Eigenvalues of gene trends"
   ]
  },
  {
   "cell_type": "code",
   "execution_count": 16,
   "metadata": {
    "ExecuteTime": {
     "end_time": "2022-08-15T07:55:20.081724Z",
     "start_time": "2022-08-15T07:55:12.582596Z"
    }
   },
   "outputs": [
    {
     "name": "stdout",
     "output_type": "stream",
     "text": [
      "Astro\n",
      "ID2\n",
      "L2-3_CUX2\n",
      "L4_RORB\n",
      "L5-6_THEMIS\n",
      "L5-6_TLE4\n",
      "LAMP5_NOS1\n",
      "Micro\n",
      "Oligo\n",
      "OPC\n",
      "PV\n",
      "PV_SCUBE3\n",
      "SST\n",
      "VIP\n"
     ]
    }
   ],
   "source": [
    "# quantile norm by all trends\n",
    "df = pd.concat( list( good_fits.values()), keys=list(good_fits.keys()))\n",
    "df.index.names = ['cell_type','gene']\n",
    "rank_mean = df.stack().groupby(df.rank(method='first').stack().astype(int)).mean()\n",
    "all_quant_df = df.rank(method='min').stack().astype(int).map(rank_mean).unstack()\n",
    "# re-combine into a dict\n",
    "quant_fits_dict = {}\n",
    "for key in good_fits.keys():\n",
    "    print( key)\n",
    "    quant_fits_dict[key] = all_quant_df.loc[key]"
   ]
  },
  {
   "cell_type": "code",
   "execution_count": 17,
   "metadata": {
    "ExecuteTime": {
     "end_time": "2022-08-15T07:55:20.113586Z",
     "start_time": "2022-08-15T07:55:20.083936Z"
    }
   },
   "outputs": [],
   "source": [
    "# quant norm before PCA\n",
    "def eigen_val( go_term, clust_nm, logTMMs=logTMMs, GO_terms=GO_terms, good_fits=quant_fits_dict):\n",
    "    inter_genes = np.intersect1d( GO_terms[go_term], logTMMs[clust_nm].index)\n",
    "    # get df with just trends of intersect genes\n",
    "    trend_df = good_fits[clust_nm].loc[inter_genes]\n",
    "    # this will return a matrix with rows as time and cols as genes\n",
    "    tt = trend_df.T\n",
    "    # Get prinicple components\n",
    "    go_pcs = sc.pp.pca( tt, n_comps=2, zero_center=False)\n",
    "    return( go_pcs[:,0])"
   ]
  },
  {
   "cell_type": "code",
   "execution_count": 18,
   "metadata": {
    "ExecuteTime": {
     "end_time": "2022-08-15T07:55:20.138081Z",
     "start_time": "2022-08-15T07:55:20.115594Z"
    }
   },
   "outputs": [],
   "source": [
    "goes = ['neuron migration', 'neuron projection development', 'synapse organization', 'apoptotic process', \n",
    "        'learning or memory', 'ensheathment of neurons', 'ion transport']"
   ]
  },
  {
   "cell_type": "code",
   "execution_count": 20,
   "metadata": {
    "ExecuteTime": {
     "end_time": "2022-08-16T01:09:47.517900Z",
     "start_time": "2022-08-16T01:09:40.473223Z"
    },
    "scrolled": true
   },
   "outputs": [
    {
     "data": {
      "image/png": "[encoded data removed]",
      "text/plain": [
       "<Figure size 612x1896 with 14 Axes>"
      ]
     },
     "metadata": {
      "needs_background": "light"
     },
     "output_type": "display_data"
    }
   ],
   "source": [
    "import matplotlib.patches as patches\n",
    "# There is an annoying ImplicitModificationWarning from anndata that is baked into running scanpy PCA with a non-anndata object. \n",
    "# It is thrown repeatedly with this code so I have suppressed warnings. Plot with generate without issue otherwise. \n",
    "import warnings\n",
    "warnings.filterwarnings('ignore')\n",
    "\n",
    "n_grid_pts = 100\n",
    "stage_order = adata.uns['stage_order']\n",
    "num_stages = len(stage_order)\n",
    "# get list of cluster hit for each go term\n",
    "go_celltypes_dict = {}\n",
    "for gg in goes:\n",
    "    go_celltypes = []\n",
    "    for kk, vv in mat_degs.items():\n",
    "        search_itr = search_term( gg, sorted_terms=vv['name'].values)\n",
    "        search_mk = [ii==gg for ii in search_itr]\n",
    "        if( np.any( search_mk)):\n",
    "            go_celltypes.append(kk)\n",
    "    # re-order cell types to match paper ordering\n",
    "    Y = [mj_plot_order.index(ii) for ii in go_celltypes]\n",
    "    X = go_celltypes\n",
    "    go_celltypes_dict[gg] = [x for _,x in sorted(zip(Y,X))]\n",
    "# color scale for expression\n",
    "cmap = sns.color_palette( \"ch:start=.2,rot=-.3\", n_colors=20)\n",
    "\n",
    "# create figure with subplots\n",
    "n = len( goes)\n",
    "widths = [0.5,8]\n",
    "heights = [len(ii) for ii in go_celltypes_dict.values()]\n",
    "fig = plt.figure( constrained_layout=False, figsize=(sum(widths),sum(heights)/3))\n",
    "spec = fig.add_gridspec( ncols=2, nrows=n, width_ratios=widths,\n",
    "                          height_ratios=heights)\n",
    "spec.update( wspace=0.01, hspace=0.05)\n",
    "\n",
    "plot_vals_dict = {}\n",
    "# loop through goes to get average expression\n",
    "for itr, (go_itr, glc_itr) in enumerate( zip( goes, goes)):\n",
    "    ax = fig.add_subplot( spec[itr,1])\n",
    "    df_itr = pd.DataFrame( [], columns=good_fits['L2-3_CUX2'].columns.values, index=go_celltypes_dict[glc_itr], dtype=float)\n",
    "    # get average trend expression\n",
    "    for key_itr in go_celltypes_dict[glc_itr]:\n",
    "        # get eigen value\n",
    "        df_itr.loc[key_itr] = eigen_val( glc_itr, key_itr)\n",
    "#         df_itr.loc[key_itr] = trends_avg( GO_terms[go_itr], good_fits[key_itr])\n",
    "        # normalize rows 0 to 1\n",
    "        df_itr = df_itr.subtract(df_itr.min(axis=1), axis=0)\\\n",
    "          .divide(df_itr.max(axis=1) - df_itr.min(axis=1), axis=0)\\\n",
    "          .combine_first(df_itr)\n",
    "    plot_vals_dict[glc_itr] = df_itr\n",
    "    ### right plot\n",
    "    cg = sns.heatmap( df_itr, ax=ax, cmap=cmap, xticklabels=False, yticklabels=False, cbar=False)\n",
    "#     cg.set_title( go_itr, loc='right')\n",
    "    # remove ticks for subplots\n",
    "    cg.tick_params( bottom=False)\n",
    "    # rotate y labels\n",
    "    plt.setp( cg.yaxis.get_majorticklabels(), rotation=0)\n",
    "    go_title = go_itr\n",
    "    ax.text( 1.005, 0.50, go_title, transform=ax.transAxes, ha='left', va='center')\n",
    "ticks = np.linspace( 1.0, n_grid_pts-1.0, num_stages)\n",
    "ax.set_xticks( ticks)\n",
    "ax.set_xticklabels( stage_order, rotation=90);\n",
    "### left plot\n",
    "# add color blocks for each major-cluster\n",
    "for itr, glc_itr in enumerate( goes):\n",
    "    ax = fig.add_subplot( spec[itr,0])\n",
    "    cell_list = go_celltypes_dict[glc_itr]\n",
    "    for i, cell_itr in enumerate( cell_list[::-1]):\n",
    "        yy = 1 * i\n",
    "        # Create a Rectangle patch\n",
    "        rect = patches.Rectangle((0.0,yy), 0.5, 1.0, color=color_dict[cell_itr])\n",
    "        # Add the patch to the Axes\n",
    "        ax.add_patch(rect)\n",
    "    ax.set_xlim(0,0.5)\n",
    "    ax.set_ylim(0,len(cell_list))\n",
    "    ax.spines['top'].set_visible(False)\n",
    "    ax.spines['right'].set_visible(False)\n",
    "    ax.spines['bottom'].set_visible(False)\n",
    "    ax.spines['left'].set_visible(False)\n",
    "    ax.set_xticks([])\n",
    "    ax.set_yticklabels( cell_list[::-1])\n",
    "    ax.set_yticks( np.linspace(0.5, len(cell_list)-0.5, len(cell_list)))\n",
    "# plt.savefig( f\"/dd_userdata/usrdat03/userdata/cherring/data/cellranger_outputs/brain_maturation_RNA/out_figs/dynamic-GO-terms_mj-clusts_splines{n_splines}_grids{n_grid_pts}.svg\", format='svg', bbox_inches='tight')"
   ]
  },
  {
   "cell_type": "markdown",
   "metadata": {},
   "source": [
    "## Statistical Testing Plots"
   ]
  },
  {
   "cell_type": "code",
   "execution_count": 54,
   "metadata": {
    "ExecuteTime": {
     "end_time": "2021-10-06T04:14:26.309625Z",
     "start_time": "2021-10-06T04:14:26.274933Z"
    }
   },
   "outputs": [],
   "source": [
    "out_path = \"../data/\""
   ]
  },
  {
   "cell_type": "code",
   "execution_count": 55,
   "metadata": {
    "ExecuteTime": {
     "end_time": "2021-10-06T04:14:26.339592Z",
     "start_time": "2021-10-06T04:14:26.311231Z"
    }
   },
   "outputs": [],
   "source": [
    "num_cuts = np.array( [0,20,40,60,80,100])\n",
    "arc_cuts = num_cuts#np.arcsinh( num_cuts / 0.55) #whole_adata2.uns['arcsinh_cofact'])\n",
    "age_cuts = stage_order"
   ]
  },
  {
   "cell_type": "code",
   "execution_count": 56,
   "metadata": {
    "ExecuteTime": {
     "end_time": "2021-10-06T04:14:26.373829Z",
     "start_time": "2021-10-06T04:14:26.341133Z"
    }
   },
   "outputs": [],
   "source": [
    "import matplotlib as mpl\n",
    "from matplotlib import cm\n",
    "\n",
    "def plot_color_bar( x1, x2):\n",
    "    sort_arcages = arc_cuts\n",
    "    fig = plt.figure()\n",
    "    ax = fig.add_axes([0.1, 0.1, 0.80, 0.05])\n",
    "    viridis = cm.get_cmap('viridis', 256)\n",
    "    cb = mpl.colorbar.ColorbarBase( ax, orientation='horizontal', cmap=viridis, \n",
    "                                    norm=mpl.colors.Normalize(0,100),\n",
    "                                    ticks=sort_arcages)\n",
    "    cb.set_ticklabels( age_cuts) #age_order);\n",
    "    ax.set_xticklabels( age_cuts, rotation='vertical')\n",
    "    ax.xaxis.set_ticks_position('top')\n",
    "    ax.vlines( x1, 0, 100, colors='Red', linewidth=3.0);\n",
    "    ax.vlines( x2, 0, 100, colors='Red', linewidth=3.0);\n",
    "#     ax.arrow( x1, 50, x2-x1, 0.1, head_width=0.5, head_length=0.3, linewidth=3, color='Red', length_includes_head=True)\n",
    "    ax.annotate( s='', xy=(x1,50), xytext=(x2,50), arrowprops=dict(arrowstyle='<-', color='Red'))\n",
    "    return(ax)"
   ]
  },
  {
   "cell_type": "code",
   "execution_count": 57,
   "metadata": {
    "ExecuteTime": {
     "end_time": "2021-10-06T04:14:26.521762Z",
     "start_time": "2021-10-06T04:14:26.375308Z"
    }
   },
   "outputs": [
    {
     "data": {
      "text/plain": [
       "<matplotlib.axes._axes.Axes at 0x7fb512b53210>"
      ]
     },
     "execution_count": 57,
     "metadata": {},
     "output_type": "execute_result"
    },
    {
     "data": {
      "image/png": "[encoded data removed]",
      "text/plain": [
       "<Figure size 432x288 with 1 Axes>"
      ]
     },
     "metadata": {
      "needs_background": "light"
     },
     "output_type": "display_data"
    }
   ],
   "source": [
    "plot_color_bar( 25,65)"
   ]
  },
  {
   "cell_type": "markdown",
   "metadata": {},
   "source": [
    "## Wilcoxon Testing of Eigentrends"
   ]
  },
  {
   "cell_type": "code",
   "execution_count": 58,
   "metadata": {
    "ExecuteTime": {
     "end_time": "2021-10-06T04:14:26.556213Z",
     "start_time": "2021-10-06T04:14:26.523399Z"
    }
   },
   "outputs": [],
   "source": [
    "from scipy.stats import wilcoxon\n",
    "sns.set_theme(context=\"paper\",font_scale=1.75)"
   ]
  },
  {
   "cell_type": "code",
   "execution_count": 59,
   "metadata": {
    "ExecuteTime": {
     "end_time": "2021-10-06T04:14:26.588085Z",
     "start_time": "2021-10-06T04:14:26.557598Z"
    }
   },
   "outputs": [],
   "source": [
    "def wilco( go, rr, tt, rs1, ts1, rs2=100, ts2=100, pvd=plot_vals_dict, alt=\"greater\"):\n",
    "    df = pvd[go]\n",
    "    x = df.loc[rr].values[rs1:rs2]\n",
    "    y = df.loc[tt].values[ts1:ts2]\n",
    "    return( wilcoxon( x, y, zero_method='pratt', alternative=alt)[1])"
   ]
  },
  {
   "cell_type": "code",
   "execution_count": 60,
   "metadata": {
    "ExecuteTime": {
     "end_time": "2021-10-06T04:14:26.620344Z",
     "start_time": "2021-10-06T04:14:26.589567Z"
    }
   },
   "outputs": [],
   "source": [
    "def loop_wilco( ref, test, go, r_start, t_start, r_stop, t_stop):\n",
    "    df = pd.DataFrame( [], index=[ref], columns=test, dtype=float)\n",
    "    p_max = -999999\n",
    "    for tt in test:\n",
    "        wil_res = wilco( go, ref, tt, r_start, t_start, rs2=r_stop, ts2=t_stop)\n",
    "        df.loc[ref,tt] = wil_res\n",
    "        if p_max<wil_res:\n",
    "            p_max = wil_res\n",
    "        print( f\"{ref} vs {tt} = {wil_res} ...sig={wil_res<0.05}\")\n",
    "    print( p_max)\n",
    "    return( df)"
   ]
  },
  {
   "cell_type": "code",
   "execution_count": 61,
   "metadata": {
    "ExecuteTime": {
     "end_time": "2021-10-06T04:14:26.654481Z",
     "start_time": "2021-10-06T04:14:26.621756Z"
    },
    "scrolled": false
   },
   "outputs": [],
   "source": [
    "#left, bottom, width, height\n",
    "def cluster_map( df, go):\n",
    "    ax = sns.clustermap( data=df, row_cluster=False, col_cluster=False,\n",
    "                        row_colors=[color_dict[ii] for ii in df.index],\n",
    "                        col_colors=[color_dict[ii] for ii in df.columns],\n",
    "                        colors_ratio=(0.02,0.2),\n",
    "                        dendrogram_ratio=(0.01,0.1),\n",
    "                        cbar_pos=(0.045, 0.001, 0.92, 0.05), \n",
    "                        cbar_kws={\"orientation\":\"horizontal\"},\n",
    "                        figsize=(2*len(test),2),\n",
    "                        annot=True, cmap='Reds', linewidths=0.2);\n",
    "    plt.setp(ax.ax_heatmap.yaxis.get_majorticklabels(), rotation=0)\n",
    "    plt.setp(ax.ax_heatmap.xaxis.get_majorticklabels(), rotation=0)\n",
    "    # ax.ax_cbar.set_title('p-values')\n",
    "    ax.ax_heatmap.xaxis.set_label_position('top')\n",
    "    ax.fig.suptitle(f\"{go} pvalues\");\n",
    "    ax.fig.savefig( out_path+f\"heatmap_{go}_{df.index.values}.svg\", format='svg', bbox_inches='tight')\n",
    "    return"
   ]
  },
  {
   "cell_type": "markdown",
   "metadata": {},
   "source": [
    "\"Notably, ID2 INs show expression through to adulthood (Fig. 2E), suggesting that ID2 INs undergo extended migration into infancy and beyond.\""
   ]
  },
  {
   "cell_type": "code",
   "execution_count": 67,
   "metadata": {
    "ExecuteTime": {
     "end_time": "2021-10-06T04:16:11.940139Z",
     "start_time": "2021-10-06T04:16:11.886004Z"
    }
   },
   "outputs": [
    {
     "name": "stdout",
     "output_type": "stream",
     "text": [
      "ID2 vs VIP = 8.570746990858083e-12 ...sig=True\n",
      "ID2 vs LAMP5_CA1 = 1.819456954256536e-11 ...sig=True\n",
      "ID2 vs SST = 8.354023216054315e-12 ...sig=True\n",
      "ID2 vs PV = 8.354023216054315e-12 ...sig=True\n",
      "ID2 vs PV_SCUBE3 = 8.354023216054315e-12 ...sig=True\n",
      "ID2 vs Astro = 1.4902864511822716e-11 ...sig=True\n",
      "ID2 vs OPC = 0.0037257677960571105 ...sig=True\n",
      "ID2 vs Oligo = 0.001578600321070996 ...sig=True\n",
      "0.0037257677960571105\n"
     ]
    }
   ],
   "source": [
    "go = 'neuron migration'\n",
    "ref = 'ID2'\n",
    "test = plot_vals_dict[go].index\n",
    "test = test[test!=ref]\n",
    "df = loop_wilco( ref=ref,\n",
    "            test=test,\n",
    "            go=go,\n",
    "            r_start=40, r_stop=100,\n",
    "            t_start=40, t_stop=100)"
   ]
  },
  {
   "cell_type": "code",
   "execution_count": 68,
   "metadata": {
    "ExecuteTime": {
     "end_time": "2021-10-06T04:16:12.729905Z",
     "start_time": "2021-10-06T04:16:12.214090Z"
    }
   },
   "outputs": [
    {
     "data": {
      "image/png": "[encoded data removed]",
      "text/plain": [
       "<Figure size 432x288 with 1 Axes>"
      ]
     },
     "metadata": {},
     "output_type": "display_data"
    }
   ],
   "source": [
    "ax = sns.boxplot( data=plot_vals_dict[go].iloc[:,40:100].T, palette=color_dict);\n",
    "plt.setp(ax.get_xticklabels(), rotation=90);\n",
    "ax.set_title(f\"{go}\")\n",
    "ax.set_ylabel('Eigentrend Values')\n",
    "ax.figure.savefig( out_path+f\"barplot_{go}_{ref}.svg\", format='svg', bbox_inches='tight')"
   ]
  },
  {
   "cell_type": "code",
   "execution_count": 69,
   "metadata": {
    "ExecuteTime": {
     "end_time": "2021-10-06T04:24:23.976047Z",
     "start_time": "2021-10-06T04:24:22.905243Z"
    }
   },
   "outputs": [
    {
     "data": {
      "image/png": "[encoded data removed]",
      "text/plain": [
       "<Figure size 1152x144 with 6 Axes>"
      ]
     },
     "metadata": {},
     "output_type": "display_data"
    }
   ],
   "source": [
    "cluster_map( df, go)"
   ]
  },
  {
   "cell_type": "code",
   "execution_count": 70,
   "metadata": {
    "ExecuteTime": {
     "end_time": "2021-10-06T04:24:45.935150Z",
     "start_time": "2021-10-06T04:24:45.553031Z"
    }
   },
   "outputs": [
    {
     "data": {
      "image/png": "[encoded data removed]",
      "text/plain": [
       "<Figure size 432x288 with 1 Axes>"
      ]
     },
     "metadata": {},
     "output_type": "display_data"
    }
   ],
   "source": [
    "ax = plot_color_bar( 40, 99)\n",
    "ax.figure.savefig( out_path+f\"colorbar_{go}_{df.index.values}.svg\", format='svg', bbox_inches='tight')"
   ]
  },
  {
   "cell_type": "markdown",
   "metadata": {
    "ExecuteTime": {
     "end_time": "2021-10-05T04:04:20.785961Z",
     "start_time": "2021-10-05T04:04:20.505873Z"
    }
   },
   "source": [
    "\"The eigentrend for “neuron projection development” suggests peak dendritic growth continues into childhood for deeper layer PNs with delayed dendritic growth again seen for VIP/ID2 INs\""
   ]
  },
  {
   "cell_type": "code",
   "execution_count": 71,
   "metadata": {
    "ExecuteTime": {
     "end_time": "2021-10-06T04:16:15.618010Z",
     "start_time": "2021-10-06T04:16:15.545860Z"
    }
   },
   "outputs": [
    {
     "name": "stdout",
     "output_type": "stream",
     "text": [
      "ID2 vs L2-3_CUX2 = 0.7845614168565139 ...sig=False\n",
      "ID2 vs L4_RORB = 8.354023216054315e-12 ...sig=True\n",
      "ID2 vs L5-6_THEMIS = 6.196188022879488e-09 ...sig=True\n",
      "ID2 vs L5-6_TLE4 = 2.6567561152792056e-10 ...sig=True\n",
      "ID2 vs VIP = 8.925908718976533e-09 ...sig=True\n",
      "ID2 vs LAMP5_CA1 = 9.015193154818344e-12 ...sig=True\n",
      "ID2 vs SST = 8.354023216054315e-12 ...sig=True\n",
      "ID2 vs PV = 8.354023216054315e-12 ...sig=True\n",
      "ID2 vs PV_SCUBE3 = 8.354023216054315e-12 ...sig=True\n",
      "ID2 vs Astro = 1.2824001381314157e-11 ...sig=True\n",
      "ID2 vs OPC = 0.9999999999918522 ...sig=False\n",
      "ID2 vs Oligo = 0.9996458387843469 ...sig=False\n",
      "0.9999999999918522\n"
     ]
    }
   ],
   "source": [
    "go = 'neuron projection development'\n",
    "ref = 'ID2'\n",
    "test = plot_vals_dict[go].index\n",
    "test = test[test!=ref]\n",
    "df1 = loop_wilco( ref=ref,\n",
    "            test=test,\n",
    "            go=go,\n",
    "            r_start=40, r_stop=100,\n",
    "            t_start=40, t_stop=100)"
   ]
  },
  {
   "cell_type": "code",
   "execution_count": 72,
   "metadata": {
    "ExecuteTime": {
     "end_time": "2021-10-06T04:16:16.944670Z",
     "start_time": "2021-10-06T04:16:16.893055Z"
    }
   },
   "outputs": [
    {
     "name": "stdout",
     "output_type": "stream",
     "text": [
      "VIP vs L2-3_CUX2 = 0.9999938548388949 ...sig=False\n",
      "VIP vs L4_RORB = 7.85255000987501e-06 ...sig=True\n",
      "VIP vs L5-6_THEMIS = 1.1284095314026846e-05 ...sig=True\n",
      "VIP vs L5-6_TLE4 = 6.1451611051242046e-06 ...sig=True\n",
      "VIP vs ID2 = 0.9985265042728344 ...sig=False\n",
      "VIP vs LAMP5_CA1 = 6.1451611051242046e-06 ...sig=True\n",
      "VIP vs SST = 6.1451611051242046e-06 ...sig=True\n",
      "VIP vs PV = 6.1451611051242046e-06 ...sig=True\n",
      "VIP vs PV_SCUBE3 = 6.1451611051242046e-06 ...sig=True\n",
      "VIP vs Astro = 6.1451611051242046e-06 ...sig=True\n",
      "VIP vs OPC = 0.9999938548388949 ...sig=False\n",
      "VIP vs Oligo = 0.9999938548388949 ...sig=False\n",
      "0.9999938548388949\n"
     ]
    }
   ],
   "source": [
    "go = 'neuron projection development'\n",
    "ref = 'VIP'\n",
    "test = plot_vals_dict[go].index\n",
    "test = test[test!=ref]\n",
    "df2 = loop_wilco( ref=ref,\n",
    "            test=test,\n",
    "            go=go,\n",
    "            r_start=45, r_stop=70,\n",
    "            t_start=45, t_stop=70)"
   ]
  },
  {
   "cell_type": "code",
   "execution_count": 73,
   "metadata": {
    "ExecuteTime": {
     "end_time": "2021-10-06T04:16:18.604152Z",
     "start_time": "2021-10-06T04:16:18.572632Z"
    }
   },
   "outputs": [],
   "source": [
    "df = pd.concat( [df1,df2])"
   ]
  },
  {
   "cell_type": "code",
   "execution_count": 109,
   "metadata": {
    "ExecuteTime": {
     "end_time": "2021-10-06T04:24:22.351535Z",
     "start_time": "2021-10-06T04:24:22.309496Z"
    }
   },
   "outputs": [],
   "source": [
    "\n",
    "def cluster_map( df, go):\n",
    "    ax = sns.clustermap( data=df, row_cluster=False, col_cluster=False,\n",
    "                        row_colors=[color_dict[ii] for ii in df.index],\n",
    "                        col_colors=[color_dict[ii] for ii in df.columns],\n",
    "                        colors_ratio=(0.02,0.2),\n",
    "                        dendrogram_ratio=(0.01,0.1),\n",
    "                        #left, bottom, width, height\n",
    "                        cbar_pos=(0.225, 0.001, 0.7, 0.05), \n",
    "                        cbar_kws={\"orientation\":\"horizontal\"},\n",
    "                        figsize=(2*len(test),2),\n",
    "                        annot=True, cmap='Reds', linewidths=0.2);\n",
    "    plt.setp(ax.ax_heatmap.yaxis.get_majorticklabels(), rotation=0)\n",
    "    plt.setp(ax.ax_heatmap.xaxis.get_majorticklabels(), rotation=0)\n",
    "    # ax.ax_cbar.set_title('p-values')\n",
    "    ax.ax_heatmap.xaxis.set_label_position('top')\n",
    "    ax.fig.suptitle(f\"{go} pvalues\");\n",
    "    ax.fig.savefig( out_path+f\"heatmap_{go}_{df.index.values}.svg\", format='svg', bbox_inches='tight')\n",
    "    return"
   ]
  },
  {
   "cell_type": "code",
   "execution_count": 110,
   "metadata": {
    "ExecuteTime": {
     "end_time": "2021-10-06T04:24:23.976047Z",
     "start_time": "2021-10-06T04:24:22.905243Z"
    }
   },
   "outputs": [
    {
     "data": {
      "image/png": "[encoded data removed]",
      "text/plain": [
       "<Figure size 1728x144 with 6 Axes>"
      ]
     },
     "metadata": {},
     "output_type": "display_data"
    }
   ],
   "source": [
    "cluster_map( df, go)"
   ]
  },
  {
   "cell_type": "code",
   "execution_count": 111,
   "metadata": {
    "ExecuteTime": {
     "end_time": "2021-10-06T04:24:45.935150Z",
     "start_time": "2021-10-06T04:24:45.553031Z"
    }
   },
   "outputs": [
    {
     "data": {
      "image/png": "[encoded data removed]",
      "text/plain": [
       "<Figure size 432x288 with 1 Axes>"
      ]
     },
     "metadata": {},
     "output_type": "display_data"
    }
   ],
   "source": [
    "ax = plot_color_bar( 45, 70)\n",
    "ax.figure.savefig( out_path+f\"colorbar_{go}_{df.index.values}.svg\", format='svg', bbox_inches='tight')"
   ]
  },
  {
   "cell_type": "markdown",
   "metadata": {},
   "source": [
    "\"Two distinct programs of neuron projection development, depending on local or global circuit connections, were evident in PN eigentrend (Fig. 2E). L4-RORB and L5/6-TLE4 neuron eigentrend peaks in fetal development, coinciding with known timing of thalamic axons reaching the cortical plate of the neocortex and forming early sensory-related circuits, as determined by neuroimaging studies (29, 30). In contrast, L2/3-CUX2 and L5/6-THEMIS showed highest eigentrend values after birth, suggesting that local projections become more concentrated at this time (29).\""
   ]
  },
  {
   "cell_type": "code",
   "execution_count": 144,
   "metadata": {
    "ExecuteTime": {
     "end_time": "2021-10-05T04:38:21.362053Z",
     "start_time": "2021-10-05T04:38:21.327226Z"
    }
   },
   "outputs": [
    {
     "data": {
      "text/plain": [
       "array(['L2-3_CUX2', 'L4_RORB', 'L5-6_THEMIS', 'L5-6_TLE4', 'VIP', 'ID2',\n",
       "       'LAMP5_CA1', 'SST', 'PV', 'PV_SCUBE3', 'Astro', 'OPC', 'Oligo'],\n",
       "      dtype=object)"
      ]
     },
     "execution_count": 144,
     "metadata": {},
     "output_type": "execute_result"
    }
   ],
   "source": [
    "plot_vals_dict[go].index.values"
   ]
  },
  {
   "cell_type": "code",
   "execution_count": 145,
   "metadata": {
    "ExecuteTime": {
     "end_time": "2021-10-05T04:38:22.861834Z",
     "start_time": "2021-10-05T04:38:22.824270Z"
    }
   },
   "outputs": [
    {
     "name": "stdout",
     "output_type": "stream",
     "text": [
      "L4_RORB vs L2-3_CUX2 = 4.428728843931774e-05 ...sig=True\n",
      "L4_RORB vs L5-6_THEMIS = 4.428728843931774e-05 ...sig=True\n",
      "L4_RORB vs L5-6_TLE4 = 0.6455473452623182 ...sig=False\n",
      "0.6455473452623182\n"
     ]
    }
   ],
   "source": [
    "loop_wilco( ref='L4_RORB',\n",
    "        test=['L2-3_CUX2','L5-6_THEMIS','L5-6_TLE4'],\n",
    "        go='neuron projection development',\n",
    "        r_start=0, r_stop=20,\n",
    "        t_start=0, t_stop=20)"
   ]
  },
  {
   "cell_type": "code",
   "execution_count": 146,
   "metadata": {
    "ExecuteTime": {
     "end_time": "2021-10-05T04:38:58.432204Z",
     "start_time": "2021-10-05T04:38:58.143312Z"
    }
   },
   "outputs": [
    {
     "name": "stdout",
     "output_type": "stream",
     "text": [
      "L5-6_TLE4 vs L2-3_CUX2 = 4.428728843931774e-05 ...sig=True\n",
      "L5-6_TLE4 vs L5-6_THEMIS = 4.428728843931774e-05 ...sig=True\n",
      "L5-6_TLE4 vs L4_RORB = 0.3544526547376819 ...sig=False\n",
      "0.3544526547376819\n"
     ]
    }
   ],
   "source": [
    "loop_wilco( ref='L5-6_TLE4',\n",
    "        test=['L2-3_CUX2','L5-6_THEMIS','L4_RORB'],\n",
    "        go='neuron projection development',\n",
    "        r_start=0, r_stop=20,\n",
    "        t_start=0, t_stop=20)"
   ]
  },
  {
   "cell_type": "code",
   "execution_count": 148,
   "metadata": {
    "ExecuteTime": {
     "end_time": "2021-10-05T04:40:56.833714Z",
     "start_time": "2021-10-05T04:40:56.794251Z"
    }
   },
   "outputs": [
    {
     "name": "stdout",
     "output_type": "stream",
     "text": [
      "L2-3_CUX2 vs L4_RORB = 1.4514620977608931e-06 ...sig=True\n",
      "L2-3_CUX2 vs L5-6_TLE4 = 0.0009092378739857393 ...sig=True\n",
      "L2-3_CUX2 vs L5-6_THEMIS = 0.0011918244923356032 ...sig=True\n",
      "0.0011918244923356032\n"
     ]
    }
   ],
   "source": [
    "loop_wilco( ref='L2-3_CUX2',\n",
    "        test=['L4_RORB','L5-6_TLE4','L5-6_THEMIS'],\n",
    "        go='neuron projection development',\n",
    "        r_start=20, r_stop=60,\n",
    "        t_start=20, t_stop=60)"
   ]
  },
  {
   "cell_type": "code",
   "execution_count": 149,
   "metadata": {
    "ExecuteTime": {
     "end_time": "2021-10-05T04:42:17.279078Z",
     "start_time": "2021-10-05T04:42:16.987946Z"
    }
   },
   "outputs": [
    {
     "name": "stdout",
     "output_type": "stream",
     "text": [
      "L5-6_THEMIS vs L4_RORB = 4.8853458907770425e-06 ...sig=True\n",
      "L5-6_THEMIS vs L5-6_TLE4 = 0.0007565841381471061 ...sig=True\n",
      "L5-6_THEMIS vs L2-3_CUX2 = 0.9988081755076644 ...sig=False\n",
      "0.9988081755076644\n"
     ]
    }
   ],
   "source": [
    "loop_wilco( ref='L5-6_THEMIS',\n",
    "        test=['L4_RORB','L5-6_TLE4','L2-3_CUX2'],\n",
    "        go='neuron projection development',\n",
    "        r_start=20, r_stop=60,\n",
    "        t_start=20, t_stop=60)"
   ]
  }
 ],
 "metadata": {
  "kernelspec": {
   "display_name": "main_bm",
   "language": "python",
   "name": "main_bm"
  },
  "language_info": {
   "codemirror_mode": {
    "name": "ipython",
    "version": 3
   },
   "file_extension": ".py",
   "mimetype": "text/x-python",
   "name": "python",
   "nbconvert_exporter": "python",
   "pygments_lexer": "ipython3",
   "version": "3.7.6"
  }
 },
 "nbformat": 4,
 "nbformat_minor": 4
}
